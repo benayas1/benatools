{
 "cells": [
  {
   "cell_type": "markdown",
   "metadata": {
    "id": "byWLjmjBMefz"
   },
   "source": [
    "# PyTorch Experiments Template"
   ]
  },
  {
   "cell_type": "code",
   "execution_count": null,
   "metadata": {},
   "outputs": [],
   "source": [
    "import torch\n",
    "import torchvision\n",
    "import pandas as pd\n",
    "import numpy as np\n",
    "import random\n",
    "import cv2\n",
    "import json\n",
    "import matplotlib.pyplot as plt\n",
    "import sys\n",
    "import os\n",
    "sys.path.insert(0, os.path.abspath(\"phd/src\"))\n",
    "sys.path.insert(0, os.path.abspath(\"benatools/src\"))\n",
    "import albumentations as A\n",
    "import matplotlib.pyplot\n",
    "from benatools.torch.efficient_net import create_efn2\n",
    "from benatools.torch.fitter import TorchFitter\n",
    "from benatools.torch.loss import CategoricalCrossEntropy\n",
    "from benatools.utils.tools import MultiStratifiedKFold\n",
    "from sklearn.model_selection import KFold\n",
    "from sklearn.metrics import accuracy_score\n",
    "from scipy.special import softmax\n",
    "\n",
    "from ads.labels import get_topics\n",
    "import ads.dataset\n",
    "\n",
    "# CONSTANTS\n",
    "PLATFORM = 'KAGGLE'  # this could be 'COLAB' or 'LOCAL'\n",
    "DEVICE = 'TPU'   # This could be 'GPU' or 'CPU'\n",
    "\n",
    "\n",
    "\n",
    "SEED = 42\n",
    "seed_everything(SEED)"
   ]
  },
  {
   "cell_type": "markdown",
   "metadata": {},
   "source": [
    "# Initialization"
   ]
  },
  {
   "cell_type": "markdown",
   "metadata": {
    "id": "IhfkH4zcYy-J",
    "papermill": {
     "duration": 0.01142,
     "end_time": "2020-09-11T15:27:05.007150",
     "exception": false,
     "start_time": "2020-09-11T15:27:04.995730",
     "status": "completed"
    },
    "tags": []
   },
   "source": [
    "Seeding everything for experiment replicability"
   ]
  },
  {
   "cell_type": "code",
   "execution_count": null,
   "metadata": {
    "execution": {
     "iopub.execute_input": "2020-09-11T15:27:05.036809Z",
     "iopub.status.busy": "2020-09-11T15:27:05.035935Z",
     "iopub.status.idle": "2020-09-11T15:27:05.038842Z",
     "shell.execute_reply": "2020-09-11T15:27:05.038202Z"
    },
    "id": "Uz6eDyk4nQ0z",
    "papermill": {
     "duration": 0.019834,
     "end_time": "2020-09-11T15:27:05.038937",
     "exception": false,
     "start_time": "2020-09-11T15:27:05.019103",
     "status": "completed"
    },
    "tags": []
   },
   "outputs": [],
   "source": [
    "# Seed\n",
    "def seed_everything(seed):\n",
    "    random.seed(seed)\n",
    "    os.environ['PYTHONHASHSEED'] = str(seed)\n",
    "    np.random.seed(seed)\n",
    "    torch.manual_seed(seed)\n",
    "    torch.cuda.manual_seed(seed)\n",
    "    torch.backends.cudnn.deterministic = True\n",
    "\n",
    "seed_everything(42)"
   ]
  },
  {
   "cell_type": "markdown",
   "metadata": {},
   "source": [
    "# Read Data"
   ]
  },
  {
   "cell_type": "markdown",
   "metadata": {},
   "source": [
    "There are normally some files linked to the dataset with metadata, contextual information, calendars, etc."
   ]
  },
  {
   "cell_type": "code",
   "execution_count": null,
   "metadata": {},
   "outputs": [],
   "source": [
    "# Read files\n",
    "# training_examples = pd.read_csv('training_examples.csv')"
   ]
  },
  {
   "cell_type": "markdown",
   "metadata": {
    "id": "mOd-aL1EmNcd",
    "papermill": {
     "duration": 0.012503,
     "end_time": "2020-09-11T15:27:10.131456",
     "exception": false,
     "start_time": "2020-09-11T15:27:10.118953",
     "status": "completed"
    },
    "tags": []
   },
   "source": [
    "# Dataset"
   ]
  },
  {
   "cell_type": "code",
   "execution_count": null,
   "metadata": {},
   "outputs": [],
   "source": [
    "class TrainDataset(torch.utils.data.Dataset):\n",
    "    def __init__(self, df, root:str, transforms=None, label_smoothing=0.0, channel_first=True, scaling_method='norm'):\n",
    "        self.df = df  # DataFrame containing \n",
    "        self.root = root  # root folder\n",
    "        self.transforms = transforms  # transforms pipeline\n",
    "        self.label_smoothing = label_smoothing  # label smoothing alpha\n",
    "        self.channel_first = channel_first  # whether to \n",
    "        self.scaling_method = scaling_method  # 'norm' normalizes the data to imagenet. 'scale' scales the data to [0,1]\n",
    "        \n",
    "    def get_labels(self):\n",
    "        return np.array(self.df.columns)\n",
    "\n",
    "    def _read(self, name):\n",
    "        path = self.root + name\n",
    "        img = cv2.imread(path)\n",
    "        img = cv2.cvtColor(img, cv2.COLOR_BGR2RGB)\n",
    "        img = cv2.resize(img, (256,256))\n",
    "        return img\n",
    "\n",
    "    def _label_smoothing(self, labels):\n",
    "        if self.label_smoothing > 0:\n",
    "            labels *= (1-self.label_smoothing)\n",
    "            labels += (self.label_smoothing / labels.shape[1])\n",
    "        return labels\n",
    "\n",
    "    def _scale(self, img):\n",
    "        if self.scaling_method == 'norm':\n",
    "            normalize = A.Normalize(\n",
    "                mean=[0.485, 0.456, 0.406],\n",
    "                std=[0.229, 0.224, 0.225],\n",
    "            )\n",
    "            img = normalize(image=img)['image']\n",
    "        else:\n",
    "            img = img/255.0\n",
    "        return img\n",
    "\n",
    "    def _adjust_channel(self, img):\n",
    "        if self.channel_first:\n",
    "            img = np.transpose(img, axes=(2,0,1))\n",
    "        return img\n",
    "\n",
    "    def _transform(self, img):\n",
    "        if self.transforms:\n",
    "            img = self.transforms(image=img)['image']\n",
    "        return img\n",
    "\n",
    "    def __len__(self):\n",
    "        return len(self.df)\n",
    "\n",
    "    def __getitem__(self, idx):\n",
    "        # Get row\n",
    "        row = self.df.iloc[idx]\n",
    "        labels = row.values\n",
    "\n",
    "        # Label smoothing\n",
    "        labels = self._label_smoothing(labels)\n",
    "\n",
    "        # Read image and reformat\n",
    "        img = self._read(row.name)\n",
    "\n",
    "        # Apply transforms\n",
    "        img = self._transform(img)\n",
    "\n",
    "        # Scale\n",
    "        img = self._scale(img)\n",
    "\n",
    "        # Adjust to C x H x W for pytorch\n",
    "        img = self._adjust_channel(img)\n",
    "        \n",
    "        # Format data into a dict\n",
    "        data = {'x': torch.from_numpy(img),\n",
    "                'y': torch.from_numpy(labels.astype(np.float32))\n",
    "               }\n",
    "\n",
    "        return data\n",
    "\n",
    "    \n",
    "def get_transforms():\n",
    "    \"\"\"\n",
    "    A Function that returns a transforms pipeline\n",
    "    \"\"\"\n",
    "    transform = A.Compose([\n",
    "        A.OneOf([\n",
    "            A.RandomRotate90(),\n",
    "            A.Flip(),\n",
    "            A.Transpose()\n",
    "        ], p=0.2),\n",
    "        A.OneOf([\n",
    "            A.IAAAdditiveGaussianNoise(),\n",
    "            A.GaussNoise(),\n",
    "        ], p=0.2),\n",
    "        A.OneOf([\n",
    "            A.MotionBlur(p=.2),\n",
    "            A.MedianBlur(blur_limit=3, p=0.1),\n",
    "            A.Blur(blur_limit=3, p=0.1),\n",
    "        ], p=0.2),\n",
    "        A.ShiftScaleRotate(shift_limit=0.0625, scale_limit=0.2, rotate_limit=45, p=0.5),\n",
    "        A.OneOf([\n",
    "            A.OpticalDistortion(p=0.3),\n",
    "            A.GridDistortion(p=.1),\n",
    "            A.IAAPiecewiseAffine(p=0.3),\n",
    "        ], p=0.2),\n",
    "        A.OneOf([\n",
    "            A.CLAHE(clip_limit=2),\n",
    "            A.IAASharpen(),\n",
    "            A.IAAEmboss(),\n",
    "            A.RandomBrightnessContrast(),            \n",
    "        ], p=0.3),\n",
    "        A.HueSaturationValue(p=0.3),\n",
    "        A.OneOf([\n",
    "                 A.Cutout(num_holes=100, max_h_size=6, max_w_size=6, fill_value=255, p=0.4),\n",
    "                 A.Cutout(num_holes=8, max_h_size=25, max_w_size=25, fill_value=0, p=0.4),\n",
    "                 A.ChannelDropout(channel_drop_range=(1, 1), fill_value=0, p=0.4)\n",
    "        ]),\n",
    "        \n",
    "    ])\n",
    "    return transform\n",
    "\n",
    "def get_dataloader(df, bs=8, shuffle=False, drop_last=False, do_aug=True):\n",
    "    transforms = None\n",
    "    if do_aug:\n",
    "        transforms = get_transforms()\n",
    "    ds = ads.dataset.ImageDataset(df, root=IMG_ROOT, transforms=transforms)\n",
    "    return torch.utils.data.DataLoader(ds, batch_size=bs, shuffle=shuffle, num_workers=4, pin_memory=True, drop_last=drop_last)"
   ]
  },
  {
   "cell_type": "markdown",
   "metadata": {},
   "source": [
    "It is useful to take a look at the data"
   ]
  },
  {
   "cell_type": "code",
   "execution_count": null,
   "metadata": {
    "colab": {
     "base_uri": "https://localhost:8080/",
     "height": 1000
    },
    "id": "vcSnQCI_N1Jx",
    "outputId": "1bea9bec-efe6-4f1b-fca0-fc37e7fe1c01"
   },
   "outputs": [],
   "source": [
    "bs = 12\n",
    "dl = get_dataloader(df.iloc[:bs], bs=bs, shuffle=False, drop_last=False, do_aug=True)\n",
    "fig, axis = plt.subplots(2,bs//2, figsize=(20,10))\n",
    "axis = axis.ravel()\n",
    "for data in dl:\n",
    "    for i in range(len(data)):\n",
    "        axis[i].set_title(' | '.join( df.columns[data[i]['y'].numpy()==1] ) )\n",
    "        axis[i].imshow(np.transpose(data[i]['x'].numpy(), (1,2,0)))"
   ]
  },
  {
   "cell_type": "markdown",
   "metadata": {
    "id": "XVhw7qHPskjC",
    "papermill": {
     "duration": 0.013884,
     "end_time": "2020-09-11T15:27:13.519691",
     "exception": false,
     "start_time": "2020-09-11T15:27:13.505807",
     "status": "completed"
    },
    "tags": []
   },
   "source": [
    "# Model\n",
    "When experimenting, many different models or variations can be tried.  \n",
    "It is useful to have a common function to route the model creations further in the training loop"
   ]
  },
  {
   "cell_type": "code",
   "execution_count": null,
   "metadata": {
    "id": "hzgemUHPOAF-"
   },
   "outputs": [],
   "source": [
    "class Identity(torch.nn.Module):\n",
    "    def __init__(self):\n",
    "        super(Identity, self).__init__()\n",
    "        \n",
    "    def forward(self, x):\n",
    "        return x\n",
    "\n",
    "class ImageClassifier(torch.nn.Module):\n",
    "    def __init__(self, n_outs=39, trainable_base=False):\n",
    "        super(ImageClassifier, self).__init__()\n",
    "        self.base = torchvision.models.resnet152(pretrained=True, progress=True)\n",
    "        self.base.fc = Identity()\n",
    "        \n",
    "        self.set_trainable(trainable_base)\n",
    "\n",
    "        self.classifier = torch.nn.Sequential(\n",
    "          torch.nn.Linear(in_features=2048, out_features=512),\n",
    "          torch.nn.ReLU(),\n",
    "          torch.nn.LayerNorm(512),\n",
    "          torch.nn.Dropout(0.25),\n",
    "          torch.nn.Linear(in_features=512, out_features=n_outs),\n",
    "        )\n",
    "\n",
    "    def set_trainable(self, trainable):\n",
    "        for param in self.base.parameters():\n",
    "            param.requires_grad = trainable\n",
    "\n",
    "    def get_cnn_outputs(self, b):\n",
    "        outs = [1280, 1280, 1408, 1536, 1792, 2048, 2064, 2560]\n",
    "        return outs[b]\n",
    "        \n",
    "    def forward(self, x):\n",
    "        x = self.base(x)\n",
    "        x = self.classifier(x)\n",
    "        return x"
   ]
  },
  {
   "cell_type": "markdown",
   "metadata": {
    "id": "QfOAufbov_CJ",
    "papermill": {
     "duration": 0.013626,
     "end_time": "2020-09-11T15:27:13.627569",
     "exception": false,
     "start_time": "2020-09-11T15:27:13.613943",
     "status": "completed"
    },
    "tags": []
   },
   "source": [
    "# Experiments Configuration"
   ]
  },
  {
   "cell_type": "code",
   "execution_count": null,
   "metadata": {
    "id": "Vsfm3dIdQhtL"
   },
   "outputs": [],
   "source": [
    "N_EXPERIMENTS = 1  # Normally not more than one run per commit\n",
    "FOLDS = [0] * N_EXPERIMENTS # Each run should cover a single fold\n",
    "\n",
    "# DATALOADER PARAMS\n",
    "BS = [32] * N_EXPERIMENTS\n",
    "\n",
    "\n",
    "# LEARNING RATE\n",
    "LR = [0.001] * N_EXPERIMENTS\n",
    "\n",
    "# TRANSFORMS\n",
    "# Params for the transforms functions\n",
    "\n",
    "# GLOBAL PARAMETERS\n",
    "EPOCHS=50\n",
    "DISPLAY_PLOT=True\n",
    "VERBOSE = 1"
   ]
  },
  {
   "cell_type": "markdown",
   "metadata": {
    "id": "KhKaxmyev1kL",
    "papermill": {
     "duration": 0.013696,
     "end_time": "2020-09-11T15:27:13.695337",
     "exception": false,
     "start_time": "2020-09-11T15:27:13.681641",
     "status": "completed"
    },
    "tags": []
   },
   "source": [
    "# Training Loop"
   ]
  },
  {
   "cell_type": "code",
   "execution_count": null,
   "metadata": {
    "colab": {
     "base_uri": "https://localhost:8080/",
     "height": 1000,
     "referenced_widgets": [
      "903ff8d8dc5c4327b9e2aae2071a4a95",
      "e58c5d1c92f9415ab654cca7cd210e25",
      "e5497d132ae346b9bfe932601e4834bd",
      "23648362a95a4d20b14707b8b86be1af",
      "8b72eeec87ca4941a06f1f812e4fe26e",
      "fe4780d876d348f29f792b46bffafaf5",
      "acf04549dc5748e58a1226c748c03094",
      "6ad2300122b64a7c889b45425712539c"
     ]
    },
    "id": "gWmYztulOLbo",
    "outputId": "0f203c5b-cd71-4ae3-9c9a-1388a83c9dcb"
   },
   "outputs": [],
   "source": [
    "# Reduce data to a subsample\n",
    "df_sub = df #.iloc[:10000]\n",
    "\n",
    "cv = MultiStratifiedKFold(5, df_sub, df.columns.tolist(), seed=SEED)\n",
    "cv_dict = {i:(train_idx, val_idx) for i,(train_idx, val_idx) in enumerate(cv.split(df_sub))}\n",
    "\n",
    "for i in range(0, N_EXPERIMENTS):\n",
    "    print(f'********** EXPERIMENT {i} **********')\n",
    "    print(f'***** bs train {BS[i]} *****')\n",
    "    print(f'***** LR {LR[i]} *****')\n",
    "    print(f'**********************************\\n')\n",
    "\n",
    "    seed_everything(SEED)\n",
    "\n",
    "    # Get Dataloader\n",
    "    train_idx, val_idx = cv_dict[FOLDS[i]]\n",
    "    train_df, val_df = df_sub.loc[train_idx], df_sub.loc[val_idx]\n",
    "    print(f'Training on {len(train_df)} samples - Validating on {len(val_df)} samples')\n",
    "    train_ds = get_dataloader(train_df, bs=BS[i], shuffle=True, drop_last=False, do_aug=True)\n",
    "    val_ds = get_dataloader(val_df, bs=BS[i], shuffle=False, drop_last=False, do_aug=False)\n",
    "\n",
    "    # Create model\n",
    "    model = ImageClassifier(trainable_base=True)\n",
    "    #optimizer = torch.optim.Adam(model.parameters(), lr=0.001 )\n",
    "    optimizer = torch.optim.SGD(model.parameters(), lr=LR[i], momentum=0.9)\n",
    "    scheduler = torch.optim.lr_scheduler.ReduceLROnPlateau(optimizer, factor=0.1, patience=3, mode='max')\n",
    "    \n",
    "    #loss = torch.nn.BCEWithLogitsLoss()\n",
    "    loss = CategoricalCrossEntropy(from_logits=True, label_smoothing=0.1, reduction='mean')\n",
    "    model.cuda()\n",
    "\n",
    "    # Fitter object\n",
    "    fitter = TorchFitter(model, device='cuda', loss=loss, optimizer=optimizer, scheduler=scheduler )\n",
    "    history = fitter.fit(train_ds, val_ds, n_epochs=EPOCHS, metric=accuracy_one_hot, early_stopping_mode='max', verbose_steps=5, early_stopping=10)\n",
    "\n",
    "    # Plot training\n",
    "    plt.figure(figsize=(15,5))\n",
    "    plt.plot(np.arange(len(history)), history['train'],'-o',label='Train Loss',color='#ff7f0e')\n",
    "    plt.plot(np.arange(len(history)), history['val'],'-o',label='Val Loss',color='#1f77b4')\n",
    "    x = np.argmin( history['val'] ); y = np.min( history['val'] )\n",
    "    xdist = plt.xlim()[1] - plt.xlim()[0]; ydist = plt.ylim()[1] - plt.ylim()[0]\n",
    "    plt.text(x-0.03*xdist,y-0.13*ydist,'min loss\\n%.2f'%y,size=14)\n",
    "    plt.ylabel('Loss',size=14); plt.xlabel('Epoch',size=14)\n",
    "    plt.legend(loc=2)\n",
    "        \n",
    "    plt2 = plt.gca().twinx()\n",
    "    plt2.plot(np.arange(len(history)),history['val_metric'],'-o',label='Accuracy',color='#36de47')\n",
    "    #x = np.argmax( history['val_F1'] ); y = np.max( history['val_F1'] )\n",
    "    #xdist = plt2.xlim()[1] - plt2.xlim()[0]; ydist = plt2.ylim()[1] - plt2.ylim()[0]\n",
    "    #plt2.text(x-0.03*xdist,y-0.13*ydist,'max F1\\n%.2f'%y,size=14)\n",
    "    #plt2.ylabel('F1',size=14); plt2.xlabel('Epoch',size=14)\n",
    "    plt2.legend()\n",
    "        \n",
    "    #plt2 = plt.gca().twinx()\n",
    "    #plt2.plot(np.arange(len(history)),history['lr'],'-o',label='LR',color='#2ca02c')\n",
    "    #plt.ylabel('LR',size=14)\n",
    "        \n",
    "    plt.title(f'Results fold {i}',size=18)\n",
    "    plt.legend(loc=3)\n",
    "    plt.show()"
   ]
  }
 ],
 "metadata": {
  "accelerator": "GPU",
  "colab": {
   "authorship_tag": "ABX9TyM5BOnyMa346ZL/rVA7FAug",
   "include_colab_link": true,
   "name": "Training Colab.ipynb",
   "provenance": [],
   "toc_visible": true
  },
  "kernelspec": {
   "display_name": "Python 3",
   "language": "python",
   "name": "python3"
  },
  "language_info": {
   "codemirror_mode": {
    "name": "ipython",
    "version": 3
   },
   "file_extension": ".py",
   "mimetype": "text/x-python",
   "name": "python",
   "nbconvert_exporter": "python",
   "pygments_lexer": "ipython3",
   "version": "3.6.9"
  },
  "widgets": {
   "application/vnd.jupyter.widget-state+json": {
    "23648362a95a4d20b14707b8b86be1af": {
     "model_module": "@jupyter-widgets/controls",
     "model_name": "HTMLModel",
     "state": {
      "_dom_classes": [],
      "_model_module": "@jupyter-widgets/controls",
      "_model_module_version": "1.5.0",
      "_model_name": "HTMLModel",
      "_view_count": null,
      "_view_module": "@jupyter-widgets/controls",
      "_view_module_version": "1.5.0",
      "_view_name": "HTMLView",
      "description": "",
      "description_tooltip": null,
      "layout": "IPY_MODEL_6ad2300122b64a7c889b45425712539c",
      "placeholder": "​",
      "style": "IPY_MODEL_acf04549dc5748e58a1226c748c03094",
      "value": " 230M/230M [00:06&lt;00:00, 36.2MB/s]"
     }
    },
    "6ad2300122b64a7c889b45425712539c": {
     "model_module": "@jupyter-widgets/base",
     "model_name": "LayoutModel",
     "state": {
      "_model_module": "@jupyter-widgets/base",
      "_model_module_version": "1.2.0",
      "_model_name": "LayoutModel",
      "_view_count": null,
      "_view_module": "@jupyter-widgets/base",
      "_view_module_version": "1.2.0",
      "_view_name": "LayoutView",
      "align_content": null,
      "align_items": null,
      "align_self": null,
      "border": null,
      "bottom": null,
      "display": null,
      "flex": null,
      "flex_flow": null,
      "grid_area": null,
      "grid_auto_columns": null,
      "grid_auto_flow": null,
      "grid_auto_rows": null,
      "grid_column": null,
      "grid_gap": null,
      "grid_row": null,
      "grid_template_areas": null,
      "grid_template_columns": null,
      "grid_template_rows": null,
      "height": null,
      "justify_content": null,
      "justify_items": null,
      "left": null,
      "margin": null,
      "max_height": null,
      "max_width": null,
      "min_height": null,
      "min_width": null,
      "object_fit": null,
      "object_position": null,
      "order": null,
      "overflow": null,
      "overflow_x": null,
      "overflow_y": null,
      "padding": null,
      "right": null,
      "top": null,
      "visibility": null,
      "width": null
     }
    },
    "8b72eeec87ca4941a06f1f812e4fe26e": {
     "model_module": "@jupyter-widgets/controls",
     "model_name": "ProgressStyleModel",
     "state": {
      "_model_module": "@jupyter-widgets/controls",
      "_model_module_version": "1.5.0",
      "_model_name": "ProgressStyleModel",
      "_view_count": null,
      "_view_module": "@jupyter-widgets/base",
      "_view_module_version": "1.2.0",
      "_view_name": "StyleView",
      "bar_color": null,
      "description_width": "initial"
     }
    },
    "903ff8d8dc5c4327b9e2aae2071a4a95": {
     "model_module": "@jupyter-widgets/controls",
     "model_name": "HBoxModel",
     "state": {
      "_dom_classes": [],
      "_model_module": "@jupyter-widgets/controls",
      "_model_module_version": "1.5.0",
      "_model_name": "HBoxModel",
      "_view_count": null,
      "_view_module": "@jupyter-widgets/controls",
      "_view_module_version": "1.5.0",
      "_view_name": "HBoxView",
      "box_style": "",
      "children": [
       "IPY_MODEL_e5497d132ae346b9bfe932601e4834bd",
       "IPY_MODEL_23648362a95a4d20b14707b8b86be1af"
      ],
      "layout": "IPY_MODEL_e58c5d1c92f9415ab654cca7cd210e25"
     }
    },
    "acf04549dc5748e58a1226c748c03094": {
     "model_module": "@jupyter-widgets/controls",
     "model_name": "DescriptionStyleModel",
     "state": {
      "_model_module": "@jupyter-widgets/controls",
      "_model_module_version": "1.5.0",
      "_model_name": "DescriptionStyleModel",
      "_view_count": null,
      "_view_module": "@jupyter-widgets/base",
      "_view_module_version": "1.2.0",
      "_view_name": "StyleView",
      "description_width": ""
     }
    },
    "e5497d132ae346b9bfe932601e4834bd": {
     "model_module": "@jupyter-widgets/controls",
     "model_name": "FloatProgressModel",
     "state": {
      "_dom_classes": [],
      "_model_module": "@jupyter-widgets/controls",
      "_model_module_version": "1.5.0",
      "_model_name": "FloatProgressModel",
      "_view_count": null,
      "_view_module": "@jupyter-widgets/controls",
      "_view_module_version": "1.5.0",
      "_view_name": "ProgressView",
      "bar_style": "success",
      "description": "100%",
      "description_tooltip": null,
      "layout": "IPY_MODEL_fe4780d876d348f29f792b46bffafaf5",
      "max": 241530880,
      "min": 0,
      "orientation": "horizontal",
      "style": "IPY_MODEL_8b72eeec87ca4941a06f1f812e4fe26e",
      "value": 241530880
     }
    },
    "e58c5d1c92f9415ab654cca7cd210e25": {
     "model_module": "@jupyter-widgets/base",
     "model_name": "LayoutModel",
     "state": {
      "_model_module": "@jupyter-widgets/base",
      "_model_module_version": "1.2.0",
      "_model_name": "LayoutModel",
      "_view_count": null,
      "_view_module": "@jupyter-widgets/base",
      "_view_module_version": "1.2.0",
      "_view_name": "LayoutView",
      "align_content": null,
      "align_items": null,
      "align_self": null,
      "border": null,
      "bottom": null,
      "display": null,
      "flex": null,
      "flex_flow": null,
      "grid_area": null,
      "grid_auto_columns": null,
      "grid_auto_flow": null,
      "grid_auto_rows": null,
      "grid_column": null,
      "grid_gap": null,
      "grid_row": null,
      "grid_template_areas": null,
      "grid_template_columns": null,
      "grid_template_rows": null,
      "height": null,
      "justify_content": null,
      "justify_items": null,
      "left": null,
      "margin": null,
      "max_height": null,
      "max_width": null,
      "min_height": null,
      "min_width": null,
      "object_fit": null,
      "object_position": null,
      "order": null,
      "overflow": null,
      "overflow_x": null,
      "overflow_y": null,
      "padding": null,
      "right": null,
      "top": null,
      "visibility": null,
      "width": null
     }
    },
    "fe4780d876d348f29f792b46bffafaf5": {
     "model_module": "@jupyter-widgets/base",
     "model_name": "LayoutModel",
     "state": {
      "_model_module": "@jupyter-widgets/base",
      "_model_module_version": "1.2.0",
      "_model_name": "LayoutModel",
      "_view_count": null,
      "_view_module": "@jupyter-widgets/base",
      "_view_module_version": "1.2.0",
      "_view_name": "LayoutView",
      "align_content": null,
      "align_items": null,
      "align_self": null,
      "border": null,
      "bottom": null,
      "display": null,
      "flex": null,
      "flex_flow": null,
      "grid_area": null,
      "grid_auto_columns": null,
      "grid_auto_flow": null,
      "grid_auto_rows": null,
      "grid_column": null,
      "grid_gap": null,
      "grid_row": null,
      "grid_template_areas": null,
      "grid_template_columns": null,
      "grid_template_rows": null,
      "height": null,
      "justify_content": null,
      "justify_items": null,
      "left": null,
      "margin": null,
      "max_height": null,
      "max_width": null,
      "min_height": null,
      "min_width": null,
      "object_fit": null,
      "object_position": null,
      "order": null,
      "overflow": null,
      "overflow_x": null,
      "overflow_y": null,
      "padding": null,
      "right": null,
      "top": null,
      "visibility": null,
      "width": null
     }
    }
   }
  }
 },
 "nbformat": 4,
 "nbformat_minor": 4
}
