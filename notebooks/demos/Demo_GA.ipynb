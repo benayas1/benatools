{
 "cells": [
  {
   "cell_type": "code",
   "execution_count": 1,
   "metadata": {},
   "outputs": [],
   "source": [
    "import numpy as np"
   ]
  },
  {
   "cell_type": "code",
   "execution_count": 80,
   "metadata": {},
   "outputs": [
    {
     "data": {
      "text/plain": [
       "array([[ True, False, False,  True,  True, False],\n",
       "       [False,  True, False,  True, False, False],\n",
       "       [ True, False,  True,  True,  True, False],\n",
       "       [False, False, False, False, False,  True],\n",
       "       [ True,  True, False,  True, False, False],\n",
       "       [False,  True,  True,  True,  True, False]])"
      ]
     },
     "execution_count": 80,
     "metadata": {},
     "output_type": "execute_result"
    }
   ],
   "source": [
    "p=0.5\n",
    "x = np.random.choice(a=[False, True], size=(6, 6), p=[p, 1-p])\n",
    "x"
   ]
  },
  {
   "cell_type": "code",
   "execution_count": 34,
   "metadata": {},
   "outputs": [
    {
     "name": "stdout",
     "output_type": "stream",
     "text": [
      "[ True  True False  True False False]\n",
      "[ True False False  True False False]\n"
     ]
    }
   ],
   "source": [
    "a=x[0]+x[1]\n",
    "b=x[0]*x[1]\n",
    "print(a)\n",
    "print(b)"
   ]
  },
  {
   "cell_type": "code",
   "execution_count": 35,
   "metadata": {},
   "outputs": [
    {
     "data": {
      "text/plain": [
       "array([[[ True,  True, False,  True, False, False],\n",
       "        [ True, False, False,  True, False, False],\n",
       "        [ True,  True,  True,  True,  True, False]],\n",
       "\n",
       "       [[False,  True,  True,  True,  True, False],\n",
       "        [False, False, False, False, False, False],\n",
       "        [ True, False,  True, False, False,  True]]])"
      ]
     },
     "execution_count": 35,
     "metadata": {},
     "output_type": "execute_result"
    }
   ],
   "source": [
    "pairs= x.reshape(2,len(x)//2,-1)\n",
    "pairs"
   ]
  },
  {
   "cell_type": "code",
   "execution_count": 36,
   "metadata": {},
   "outputs": [
    {
     "data": {
      "text/plain": [
       "(2, 3, 6)"
      ]
     },
     "execution_count": 36,
     "metadata": {},
     "output_type": "execute_result"
    }
   ],
   "source": [
    "pairs.shape"
   ]
  },
  {
   "cell_type": "code",
   "execution_count": 37,
   "metadata": {},
   "outputs": [
    {
     "data": {
      "text/plain": [
       "(3, 6)"
      ]
     },
     "execution_count": 37,
     "metadata": {},
     "output_type": "execute_result"
    }
   ],
   "source": [
    "pairs[0].shape"
   ]
  },
  {
   "cell_type": "code",
   "execution_count": 38,
   "metadata": {},
   "outputs": [
    {
     "data": {
      "text/plain": [
       "array([[ True,  True, False,  True, False, False],\n",
       "       [ True, False, False,  True, False, False],\n",
       "       [ True,  True,  True,  True,  True, False]])"
      ]
     },
     "execution_count": 38,
     "metadata": {},
     "output_type": "execute_result"
    }
   ],
   "source": [
    "pairs[0]"
   ]
  },
  {
   "cell_type": "code",
   "execution_count": 39,
   "metadata": {},
   "outputs": [
    {
     "data": {
      "text/plain": [
       "array([[False,  True, False,  True,  True, False],\n",
       "       [False, False,  True, False,  True,  True],\n",
       "       [ True,  True,  True,  True,  True, False]])"
      ]
     },
     "execution_count": 39,
     "metadata": {},
     "output_type": "execute_result"
    }
   ],
   "source": [
    "mask = np.random.choice(a=[False, True], size=(pairs.shape[1], pairs.shape[2]), p=[p, 1-p])\n",
    "mask"
   ]
  },
  {
   "cell_type": "code",
   "execution_count": 40,
   "metadata": {},
   "outputs": [
    {
     "data": {
      "text/plain": [
       "array([False, False,  True, False,  True, False])"
      ]
     },
     "execution_count": 40,
     "metadata": {},
     "output_type": "execute_result"
    }
   ],
   "source": [
    "cross = np.where(mask[1], pairs[1][0], pairs[1][1] )\n",
    "cross"
   ]
  },
  {
   "cell_type": "code",
   "execution_count": 43,
   "metadata": {},
   "outputs": [
    {
     "data": {
      "text/plain": [
       "array([[False,  True,  True,  True, False, False],\n",
       "       [False, False, False, False, False, False],\n",
       "       [ True,  True,  True,  True,  True,  True]])"
      ]
     },
     "execution_count": 43,
     "metadata": {},
     "output_type": "execute_result"
    }
   ],
   "source": [
    "cross = np.where(mask, pairs[0,:], pairs[1,:] )\n",
    "cross"
   ]
  },
  {
   "cell_type": "code",
   "execution_count": 44,
   "metadata": {},
   "outputs": [
    {
     "data": {
      "text/plain": [
       "array([[False,  True,  True,  True, False, False],\n",
       "       [ True, False, False, False, False, False],\n",
       "       [ True, False,  True, False,  True,  True]])"
      ]
     },
     "execution_count": 44,
     "metadata": {},
     "output_type": "execute_result"
    }
   ],
   "source": [
    "cross2 = np.where(np.random.choice(a=[False, True], size=(pairs.shape[1], pairs.shape[2])), pairs[0,:], pairs[1,:] )\n",
    "cross2"
   ]
  },
  {
   "cell_type": "code",
   "execution_count": 45,
   "metadata": {},
   "outputs": [
    {
     "data": {
      "text/plain": [
       "(3, 6)"
      ]
     },
     "execution_count": 45,
     "metadata": {},
     "output_type": "execute_result"
    }
   ],
   "source": [
    "cross.shape"
   ]
  },
  {
   "cell_type": "code",
   "execution_count": 70,
   "metadata": {},
   "outputs": [
    {
     "data": {
      "text/plain": [
       "array([[[False,  True,  True,  True, False, False],\n",
       "        [False, False, False, False, False, False],\n",
       "        [ True,  True,  True,  True,  True,  True]],\n",
       "\n",
       "       [[False,  True,  True,  True, False, False],\n",
       "        [ True, False, False, False, False, False],\n",
       "        [ True, False,  True, False,  True,  True]]])"
      ]
     },
     "execution_count": 70,
     "metadata": {},
     "output_type": "execute_result"
    }
   ],
   "source": [
    "c = np.stack([cross,cross2])\n",
    "c"
   ]
  },
  {
   "cell_type": "code",
   "execution_count": 49,
   "metadata": {},
   "outputs": [
    {
     "data": {
      "text/plain": [
       "(2, 3, 6)"
      ]
     },
     "execution_count": 49,
     "metadata": {},
     "output_type": "execute_result"
    }
   ],
   "source": [
    "c.shape"
   ]
  },
  {
   "cell_type": "code",
   "execution_count": 75,
   "metadata": {},
   "outputs": [
    {
     "data": {
      "text/plain": [
       "(6, 6)"
      ]
     },
     "execution_count": 75,
     "metadata": {},
     "output_type": "execute_result"
    }
   ],
   "source": [
    "np.concatenate([pairs[:,i,:] if x else c[:,i,:] for i,x in enumerate(np.random.choice(a=[False, True], size=(pairs.shape[1],), p=[1-p, p]))])"
   ]
  },
  {
   "cell_type": "code",
   "execution_count": 69,
   "metadata": {},
   "outputs": [
    {
     "ename": "ValueError",
     "evalue": "operands could not be broadcast together with shapes (3,) (3,2,6) (3,2,6) ",
     "output_type": "error",
     "traceback": [
      "\u001b[0;31m---------------------------------------------------------------------------\u001b[0m",
      "\u001b[0;31mValueError\u001b[0m                                Traceback (most recent call last)",
      "\u001b[0;32m<ipython-input-69-2e6c0f6d8c80>\u001b[0m in \u001b[0;36m<module>\u001b[0;34m\u001b[0m\n\u001b[1;32m      1\u001b[0m \u001b[0mp\u001b[0m \u001b[0;34m=\u001b[0m \u001b[0;36m0.25\u001b[0m\u001b[0;34m\u001b[0m\u001b[0;34m\u001b[0m\u001b[0m\n\u001b[0;32m----> 2\u001b[0;31m \u001b[0mchoice\u001b[0m \u001b[0;34m=\u001b[0m \u001b[0mnp\u001b[0m\u001b[0;34m.\u001b[0m\u001b[0mwhere\u001b[0m\u001b[0;34m(\u001b[0m\u001b[0mnp\u001b[0m\u001b[0;34m.\u001b[0m\u001b[0mrandom\u001b[0m\u001b[0;34m.\u001b[0m\u001b[0mchoice\u001b[0m\u001b[0;34m(\u001b[0m\u001b[0ma\u001b[0m\u001b[0;34m=\u001b[0m\u001b[0;34m[\u001b[0m\u001b[0;32mFalse\u001b[0m\u001b[0;34m,\u001b[0m \u001b[0;32mTrue\u001b[0m\u001b[0;34m]\u001b[0m\u001b[0;34m,\u001b[0m \u001b[0msize\u001b[0m\u001b[0;34m=\u001b[0m\u001b[0;34m(\u001b[0m\u001b[0mpairs\u001b[0m\u001b[0;34m.\u001b[0m\u001b[0mshape\u001b[0m\u001b[0;34m[\u001b[0m\u001b[0;36m1\u001b[0m\u001b[0;34m]\u001b[0m\u001b[0;34m,\u001b[0m\u001b[0;34m)\u001b[0m\u001b[0;34m,\u001b[0m \u001b[0mp\u001b[0m\u001b[0;34m=\u001b[0m\u001b[0;34m[\u001b[0m\u001b[0;36m1\u001b[0m\u001b[0;34m-\u001b[0m\u001b[0mp\u001b[0m\u001b[0;34m,\u001b[0m \u001b[0mp\u001b[0m\u001b[0;34m]\u001b[0m\u001b[0;34m)\u001b[0m\u001b[0;34m,\u001b[0m \u001b[0mpairs\u001b[0m\u001b[0;34m.\u001b[0m\u001b[0mtranspose\u001b[0m\u001b[0;34m(\u001b[0m\u001b[0;36m1\u001b[0m\u001b[0;34m,\u001b[0m\u001b[0;36m0\u001b[0m\u001b[0;34m,\u001b[0m\u001b[0;36m2\u001b[0m\u001b[0;34m)\u001b[0m\u001b[0;34m,\u001b[0m \u001b[0mc\u001b[0m\u001b[0;34m.\u001b[0m\u001b[0mtranspose\u001b[0m\u001b[0;34m(\u001b[0m\u001b[0;36m1\u001b[0m\u001b[0;34m,\u001b[0m\u001b[0;36m0\u001b[0m\u001b[0;34m,\u001b[0m\u001b[0;36m2\u001b[0m\u001b[0;34m)\u001b[0m \u001b[0;34m)\u001b[0m\u001b[0;34m\u001b[0m\u001b[0;34m\u001b[0m\u001b[0m\n\u001b[0m\u001b[1;32m      3\u001b[0m \u001b[0mchoice\u001b[0m\u001b[0;34m\u001b[0m\u001b[0;34m\u001b[0m\u001b[0m\n",
      "\u001b[0;32m<__array_function__ internals>\u001b[0m in \u001b[0;36mwhere\u001b[0;34m(*args, **kwargs)\u001b[0m\n",
      "\u001b[0;31mValueError\u001b[0m: operands could not be broadcast together with shapes (3,) (3,2,6) (3,2,6) "
     ]
    }
   ],
   "source": [
    "p = 0.25\n",
    "choice = np.where(np.random.choice(a=[False, True], size=(pairs.shape[1],), p=[1-p, p]), pairs.transpose(1,0,2), c.transpose(1,0,2) )\n",
    "choice"
   ]
  },
  {
   "cell_type": "code",
   "execution_count": 61,
   "metadata": {},
   "outputs": [
    {
     "data": {
      "text/plain": [
       "array([False, False, False])"
      ]
     },
     "execution_count": 61,
     "metadata": {},
     "output_type": "execute_result"
    }
   ],
   "source": [
    "np.random.choice(a=[False, True], size=(pairs.shape[1],), p=[1-p, p])"
   ]
  },
  {
   "cell_type": "code",
   "execution_count": 52,
   "metadata": {},
   "outputs": [
    {
     "data": {
      "text/plain": [
       "array([ True,  True, False])"
      ]
     },
     "execution_count": 52,
     "metadata": {},
     "output_type": "execute_result"
    }
   ],
   "source": [
    "np.random.rand(pairs.shape[1]) < p"
   ]
  },
  {
   "cell_type": "code",
   "execution_count": 56,
   "metadata": {},
   "outputs": [
    {
     "data": {
      "text/plain": [
       "array([False, False, False, False, False, False, False, False, False,\n",
       "       False])"
      ]
     },
     "execution_count": 56,
     "metadata": {},
     "output_type": "execute_result"
    }
   ],
   "source": [
    "p=0.1\n",
    "np.random.choice(a=[False, True], size=(10,), p=[1-p, p])"
   ]
  },
  {
   "cell_type": "code",
   "execution_count": 57,
   "metadata": {},
   "outputs": [
    {
     "ename": "ValueError",
     "evalue": "probabilities do not sum to 1",
     "output_type": "error",
     "traceback": [
      "\u001b[0;31m---------------------------------------------------------------------------\u001b[0m",
      "\u001b[0;31mValueError\u001b[0m                                Traceback (most recent call last)",
      "\u001b[0;32m<ipython-input-57-62ca11b6f056>\u001b[0m in \u001b[0;36m<module>\u001b[0;34m\u001b[0m\n\u001b[0;32m----> 1\u001b[0;31m \u001b[0mnp\u001b[0m\u001b[0;34m.\u001b[0m\u001b[0mwhere\u001b[0m\u001b[0;34m(\u001b[0m\u001b[0mnp\u001b[0m\u001b[0;34m.\u001b[0m\u001b[0mrandom\u001b[0m\u001b[0;34m.\u001b[0m\u001b[0mchoice\u001b[0m\u001b[0;34m(\u001b[0m\u001b[0ma\u001b[0m\u001b[0;34m=\u001b[0m\u001b[0;34m[\u001b[0m\u001b[0;32mFalse\u001b[0m\u001b[0;34m,\u001b[0m \u001b[0;32mTrue\u001b[0m\u001b[0;34m]\u001b[0m\u001b[0;34m,\u001b[0m \u001b[0msize\u001b[0m\u001b[0;34m=\u001b[0m\u001b[0;34m(\u001b[0m\u001b[0ma\u001b[0m\u001b[0;34m,\u001b[0m\u001b[0;34m)\u001b[0m\u001b[0;34m,\u001b[0m \u001b[0mp\u001b[0m\u001b[0;34m=\u001b[0m\u001b[0;34m[\u001b[0m\u001b[0mp\u001b[0m\u001b[0;34m,\u001b[0m \u001b[0mp\u001b[0m\u001b[0;34m]\u001b[0m\u001b[0;34m)\u001b[0m\u001b[0;34m,\u001b[0m \u001b[0;32mTrue\u001b[0m\u001b[0;34m,\u001b[0m \u001b[0mpairs\u001b[0m\u001b[0;34m[\u001b[0m\u001b[0;36m1\u001b[0m\u001b[0;34m,\u001b[0m\u001b[0;34m:\u001b[0m\u001b[0;34m]\u001b[0m \u001b[0;34m)\u001b[0m\u001b[0;34m\u001b[0m\u001b[0;34m\u001b[0m\u001b[0m\n\u001b[0m",
      "\u001b[0;32mmtrand.pyx\u001b[0m in \u001b[0;36mnumpy.random.mtrand.RandomState.choice\u001b[0;34m()\u001b[0m\n",
      "\u001b[0;31mValueError\u001b[0m: probabilities do not sum to 1"
     ]
    }
   ],
   "source": []
  },
  {
   "cell_type": "code",
   "execution_count": 110,
   "metadata": {},
   "outputs": [],
   "source": [
    "def cross2( x, prob=0.0):\n",
    "        # Shuffle\n",
    "        idx = np.arange(len(x))\n",
    "        np.random.shuffle(idx)\n",
    "        x = x[idx]\n",
    "\n",
    "        # Split and compare\n",
    "        pairs= x.reshape(2,len(x)//2,-1)\n",
    "        mask = np.random.choice(a=[False, True], size=(pairs.shape[1], pairs.shape[2]))\n",
    "\n",
    "        # Cross\n",
    "        cross1 = np.where(mask, pairs[0,:], pairs[1,:] )\n",
    "        cross2 = np.where(np.random.choice(a=[False, True], size=(pairs.shape[1], pairs.shape[2])), pairs[0,:], pairs[1,:] )\n",
    "        cross = np.stack([cross1,cross2])\n",
    "\n",
    "        # Decide\n",
    "        return np.concatenate([ cross[:,i,:] if x else pairs[:,i,:] for i,x in enumerate(np.random.choice(a=[False, True], size=(pairs.shape[1],), p=[1-prob, prob]))])"
   ]
  },
  {
   "cell_type": "code",
   "execution_count": 111,
   "metadata": {},
   "outputs": [
    {
     "name": "stdout",
     "output_type": "stream",
     "text": [
      "[[ True  True False  True  True False]\n",
      " [ True False False  True False  True]\n",
      " [ True  True  True  True False False]\n",
      " [ True False  True False  True  True]\n",
      " [False False False  True False  True]\n",
      " [False  True  True False False False]]\n",
      "[ True False  True  True False False]\n",
      "[[ True False False  True False  True]\n",
      " [False False False  True False  True]]\n",
      "[ True False False  True False  True]\n",
      "[False False False]\n"
     ]
    },
    {
     "data": {
      "text/plain": [
       "array([[ True,  True, False,  True,  True, False],\n",
       "       [ True, False,  True, False,  True,  True],\n",
       "       [ True, False, False,  True, False,  True],\n",
       "       [False, False, False,  True, False,  True],\n",
       "       [ True,  True,  True,  True, False, False],\n",
       "       [False,  True,  True, False, False, False]])"
      ]
     },
     "execution_count": 111,
     "metadata": {},
     "output_type": "execute_result"
    }
   ],
   "source": [
    "p=0.5\n",
    "x = np.random.choice(a=[False, True], size=(6, 6), p=[p, 1-p])\n",
    "print(x)\n",
    "cross2(x)"
   ]
  },
  {
   "cell_type": "code",
   "execution_count": 132,
   "metadata": {},
   "outputs": [
    {
     "data": {
      "text/plain": [
       "array([ True,  True,  True,  True,  True,  True,  True,  True,  True,\n",
       "        True])"
      ]
     },
     "execution_count": 132,
     "metadata": {},
     "output_type": "execute_result"
    }
   ],
   "source": [
    "np.logical_not(np.array([False, False, False, False, False, False, False, False, False, False]))"
   ]
  },
  {
   "cell_type": "code",
   "execution_count": 125,
   "metadata": {},
   "outputs": [],
   "source": [
    "    def mutation(x, prob=0.1):\n",
    "        inverse = np.logical_not(x)\n",
    "        mask = np.random.choice(a=[False, True], size=x.shape, p=[1-prob, prob])\n",
    "        x = np.where(mask, inverse, x)\n",
    "        return x"
   ]
  },
  {
   "cell_type": "code",
   "execution_count": 129,
   "metadata": {},
   "outputs": [
    {
     "data": {
      "text/plain": [
       "array([False, False, False,  True, False, False, False, False, False,\n",
       "       False])"
      ]
     },
     "execution_count": 129,
     "metadata": {},
     "output_type": "execute_result"
    }
   ],
   "source": [
    "mutation(np.array([False, False, False, False, False, False, False, False, False, False]))"
   ]
  },
  {
   "cell_type": "code",
   "execution_count": 131,
   "metadata": {},
   "outputs": [
    {
     "data": {
      "text/plain": [
       "array([1, 3, 4, 5, 6, 7])"
      ]
     },
     "execution_count": 131,
     "metadata": {},
     "output_type": "execute_result"
    }
   ],
   "source": [
    "x = np.array([1,6,4,7,5,3])\n",
    "idx=np.argsort(x)\n",
    "x[idx]"
   ]
  },
  {
   "cell_type": "code",
   "execution_count": 489,
   "metadata": {},
   "outputs": [],
   "source": [
    "import numpy as np\n",
    "import pandas as pd\n",
    "\n",
    "\n",
    "class GA():\n",
    "    def __init__(self, seed=7, verbose=True, init_fn=None, init_kwargs={}):\n",
    "        np.random.seed(seed)\n",
    "        self.verbose = verbose\n",
    "\n",
    "        self.init_fn = init_fn\n",
    "        self.init_kwargs = init_kwargs\n",
    "\n",
    "        self.generations = []\n",
    "        self.scores = []\n",
    "        \n",
    "    def _generation(self, x, scores):\n",
    "        x2 = self.selection(x.copy(), scores.copy())\n",
    "        x2 = self.cross(x2)\n",
    "        x2 = self.mutation(x2)\n",
    "        x = self.replacement(x, scores, len(x2))\n",
    "        return np.concatenate([x,x2])\n",
    "    \n",
    "    def run(self, n_gen, cost_function):\n",
    "        print('Starting Genetic Algorithm for %i loops' % n_gen)\n",
    "        \n",
    "        history = []\n",
    "        x = self.init_fn(**self.init_kwargs)\n",
    "        scores = np.array([cost_function(e) for e in x])\n",
    "        best_score = np.min(scores)\n",
    "        best_sample = x[np.argmin(scores)]\n",
    "        \n",
    "        if self.verbose:\n",
    "            print('\\t Loop %i - Best %.3f - Avg %.3f - Worst %.3f' %(0, np.min(scores), np.mean(scores), np.max(scores) ))\n",
    "        history.append({'best':np.min(scores), 'mean':np.mean(scores), 'worst':np.max(scores)})\n",
    "\n",
    "        for i in range(0, n_gen):\n",
    "            # Run transformations\n",
    "            x = self._generation(x, scores)\n",
    "            scores = np.array([cost_function(e) for e in x])\n",
    "\n",
    "            # Save the best result\n",
    "            if np.min(scores) < best_score:\n",
    "                best_score = np.min(scores)\n",
    "                best_sample = x[np.argmin(scores)]\n",
    "            else:\n",
    "            # Make sure the best is still alive. Replace the worst by the best\n",
    "                x[np.argmax(scores)] = best_sample\n",
    "                scores[np.argmax(scores)] = best_score\n",
    "\n",
    "            # Save generation results\n",
    "            self.generations.append(x.copy())\n",
    "            self.scores.append(scores)\n",
    "\n",
    "            # Print generation results\n",
    "            if self.verbose:\n",
    "                print('\\t Loop %i - Best %.3f - Avg %.3f - Worst %.3f' %(i+1, np.min(scores), np.mean(scores), np.max(scores) ))\n",
    "            history.append({'best':np.min(scores), 'mean':np.mean(scores), 'worst':np.max(scores)})\n",
    "            \n",
    "        self.best_sample = best_sample\n",
    "        self.best_score = best_score\n",
    "        \n",
    "        return pd.DataFrame(history)\n",
    "    \n",
    "    def selection(self, x, scores):\n",
    "        # Shuffle\n",
    "        idx = np.arange(len(x))\n",
    "        np.random.shuffle(idx)\n",
    "        x = x[idx]\n",
    "        scores = scores[idx]\n",
    "        \n",
    "        # Split and compare\n",
    "        splits = scores.reshape(len(scores)//2,2)\n",
    "        winners = splits.argmin(axis=1)\n",
    "        x = x.reshape(2,len(x)//2,-1)\n",
    "        x = np.stack([x[winners[i],i,:] for i in range(x.shape[1])])        \n",
    "\n",
    "        return x\n",
    "\n",
    "    def cross(self, x, prob=0.5):\n",
    "        # Shuffle\n",
    "        idx = np.arange(len(x))\n",
    "        np.random.shuffle(idx)\n",
    "        x = x[idx]\n",
    "\n",
    "        # Split and compare\n",
    "        pairs= x.reshape(2,len(x)//2,-1)\n",
    "        mask = np.random.choice(a=[False, True], size=(pairs.shape[1], pairs.shape[2]))\n",
    "\n",
    "        # Cross\n",
    "        cross1 = np.where(mask, pairs[0,:], pairs[1,:] )\n",
    "        cross2 = np.where(np.random.choice(a=[False, True], size=(pairs.shape[1], pairs.shape[2])), pairs[0,:], pairs[1,:] )\n",
    "        cross = np.stack([cross1,cross2])\n",
    "\n",
    "        # Decide\n",
    "        return np.concatenate([cross[:,i,:] if x else pairs[:,i,:] for i,x in enumerate(np.random.choice(a=[False, True], size=(pairs.shape[1],), p=[1-prob, prob]))])\n",
    "    \n",
    "    def mutation(self, x, prob=0.05):\n",
    "        inverse = np.logical_not(x)\n",
    "        mask = np.random.choice(a=[False, True], size=x.shape, p=[1-prob, prob])\n",
    "        x = np.where(mask, inverse, x)\n",
    "        return x\n",
    "\n",
    "    def replacement_random(self, population, children):\n",
    "        size = len(population)\n",
    "        size = size - len(children)\n",
    "        return np.concatenate([children, population[np.random.choice(range(0,len(population)), size)]], axis=0)\n",
    "    \n",
    "    def replacement(self, x, scores, n_remove):\n",
    "        # Shuffle\n",
    "        idx = np.argsort(scores)\n",
    "        x = x[idx]\n",
    "        scores = scores[idx]\n",
    "        x=x[:len(x)-n_remove]\n",
    "\n",
    "        return x\n",
    "\n",
    "    \n",
    "def init_fn(n_elements, n_features):\n",
    "    return np.random.choice(a=[False, True], size=(n_elements,n_features))\n",
    "\n",
    "def cost_fn(x):\n",
    "    return -np.sum([e*(2**i)*(-1*(i%2)) for i,e in enumerate(x)])"
   ]
  },
  {
   "cell_type": "code",
   "execution_count": 490,
   "metadata": {},
   "outputs": [
    {
     "name": "stdout",
     "output_type": "stream",
     "text": [
      "[[False  True False False False]\n",
      " [ True False False False  True]\n",
      " [False False False False  True]\n",
      " [False  True  True  True False]\n",
      " [ True False  True  True  True]\n",
      " [ True  True  True  True  True]\n",
      " [False False  True  True  True]\n",
      " [False  True False False False]\n",
      " [False False  True  True  True]\n",
      " [ True  True False  True  True]\n",
      " [False  True False  True False]\n",
      " [ True  True False False False]]\n"
     ]
    },
    {
     "data": {
      "text/plain": [
       "array([ 0,  1,  2,  3,  4,  5,  6,  7,  8,  9, 10, 11])"
      ]
     },
     "execution_count": 490,
     "metadata": {},
     "output_type": "execute_result"
    }
   ],
   "source": [
    "np.random.seed(42)\n",
    "x = init_fn(12,5)\n",
    "print(x)\n",
    "scores = np.arange(12)\n",
    "scores"
   ]
  },
  {
   "cell_type": "code",
   "execution_count": 491,
   "metadata": {},
   "outputs": [
    {
     "data": {
      "text/plain": [
       "array([[ 0,  1,  2,  3,  4,  5],\n",
       "       [ 6,  7,  8,  9, 10, 11]])"
      ]
     },
     "execution_count": 491,
     "metadata": {},
     "output_type": "execute_result"
    }
   ],
   "source": [
    "splits = scores.reshape(2,len(scores)//2)\n",
    "splits"
   ]
  },
  {
   "cell_type": "code",
   "execution_count": 492,
   "metadata": {},
   "outputs": [
    {
     "data": {
      "text/plain": [
       "array([1, 1, 1, 1, 1, 1])"
      ]
     },
     "execution_count": 492,
     "metadata": {},
     "output_type": "execute_result"
    }
   ],
   "source": [
    "winners = splits.argmax(axis=0)\n",
    "winners"
   ]
  },
  {
   "cell_type": "code",
   "execution_count": 493,
   "metadata": {},
   "outputs": [
    {
     "data": {
      "text/plain": [
       "array([[[False,  True, False, False, False],\n",
       "        [ True, False, False, False,  True],\n",
       "        [False, False, False, False,  True],\n",
       "        [False,  True,  True,  True, False],\n",
       "        [ True, False,  True,  True,  True],\n",
       "        [ True,  True,  True,  True,  True]],\n",
       "\n",
       "       [[False, False,  True,  True,  True],\n",
       "        [False,  True, False, False, False],\n",
       "        [False, False,  True,  True,  True],\n",
       "        [ True,  True, False,  True,  True],\n",
       "        [False,  True, False,  True, False],\n",
       "        [ True,  True, False, False, False]]])"
      ]
     },
     "execution_count": 493,
     "metadata": {},
     "output_type": "execute_result"
    }
   ],
   "source": [
    "x = x.reshape(2,len(x)//2,-1)\n",
    "x"
   ]
  },
  {
   "cell_type": "code",
   "execution_count": 494,
   "metadata": {},
   "outputs": [
    {
     "data": {
      "text/plain": [
       "array([[False, False,  True,  True,  True],\n",
       "       [False,  True, False, False, False],\n",
       "       [False, False,  True,  True,  True],\n",
       "       [ True,  True, False,  True,  True],\n",
       "       [False,  True, False,  True, False],\n",
       "       [ True,  True, False, False, False]])"
      ]
     },
     "execution_count": 494,
     "metadata": {},
     "output_type": "execute_result"
    }
   ],
   "source": [
    "np.stack([x[winners[i],i,:] for i in range(x.shape[1])])\n"
   ]
  },
  {
   "cell_type": "code",
   "execution_count": 495,
   "metadata": {},
   "outputs": [
    {
     "data": {
      "text/plain": [
       "(2, 6, 5)"
      ]
     },
     "execution_count": 495,
     "metadata": {},
     "output_type": "execute_result"
    }
   ],
   "source": [
    "x.shape"
   ]
  },
  {
   "cell_type": "code",
   "execution_count": 496,
   "metadata": {},
   "outputs": [
    {
     "data": {
      "text/plain": [
       "188"
      ]
     },
     "execution_count": 496,
     "metadata": {},
     "output_type": "execute_result"
    }
   ],
   "source": [
    "cost_fn(x[0])"
   ]
  },
  {
   "cell_type": "code",
   "execution_count": 504,
   "metadata": {},
   "outputs": [
    {
     "name": "stdout",
     "output_type": "stream",
     "text": [
      "Starting Genetic Algorithm for 10 loops\n",
      "\t Loop 0 - Best 8600584224.000 - Avg 324145814410.700 - Worst 732326144034.000\n",
      "\t Loop 1 - Best 8600584224.000 - Avg 198594160183.100 - Worst 723738305152.000\n",
      "\t Loop 2 - Best 8600584224.000 - Avg 100910780899.900 - Worst 584686019072.000\n",
      "\t Loop 3 - Best 681746592.000 - Avg 56845401109.600 - Worst 595558146688.000\n",
      "\t Loop 4 - Best 145392160.000 - Avg 67949348895.500 - Worst 593410261632.000\n",
      "\t Loop 5 - Best 143262240.000 - Avg 53690110076.600 - Worst 593284432000.000\n",
      "\t Loop 6 - Best 10649632.000 - Avg 54313753714.600 - Worst 695928004608.000\n",
      "\t Loop 7 - Best 10616864.000 - Avg 74535763489.900 - Worst 695928004608.000\n",
      "\t Loop 8 - Best 174112.000 - Avg 46006449729.900 - Worst 695919616000.000\n",
      "\t Loop 9 - Best 174112.000 - Avg 8359589930.400 - Worst 139731304616.000\n",
      "\t Loop 10 - Best 174112.000 - Avg 906512857.100 - Worst 8600594472.000\n"
     ]
    },
    {
     "data": {
      "text/html": [
       "<div>\n",
       "<style scoped>\n",
       "    .dataframe tbody tr th:only-of-type {\n",
       "        vertical-align: middle;\n",
       "    }\n",
       "\n",
       "    .dataframe tbody tr th {\n",
       "        vertical-align: top;\n",
       "    }\n",
       "\n",
       "    .dataframe thead th {\n",
       "        text-align: right;\n",
       "    }\n",
       "</style>\n",
       "<table border=\"1\" class=\"dataframe\">\n",
       "  <thead>\n",
       "    <tr style=\"text-align: right;\">\n",
       "      <th></th>\n",
       "      <th>best</th>\n",
       "      <th>mean</th>\n",
       "      <th>worst</th>\n",
       "    </tr>\n",
       "  </thead>\n",
       "  <tbody>\n",
       "    <tr>\n",
       "      <th>0</th>\n",
       "      <td>8600584224</td>\n",
       "      <td>3.241458e+11</td>\n",
       "      <td>732326144034</td>\n",
       "    </tr>\n",
       "    <tr>\n",
       "      <th>1</th>\n",
       "      <td>8600584224</td>\n",
       "      <td>1.985942e+11</td>\n",
       "      <td>723738305152</td>\n",
       "    </tr>\n",
       "    <tr>\n",
       "      <th>2</th>\n",
       "      <td>8600584224</td>\n",
       "      <td>1.009108e+11</td>\n",
       "      <td>584686019072</td>\n",
       "    </tr>\n",
       "    <tr>\n",
       "      <th>3</th>\n",
       "      <td>681746592</td>\n",
       "      <td>5.684540e+10</td>\n",
       "      <td>595558146688</td>\n",
       "    </tr>\n",
       "    <tr>\n",
       "      <th>4</th>\n",
       "      <td>145392160</td>\n",
       "      <td>6.794935e+10</td>\n",
       "      <td>593410261632</td>\n",
       "    </tr>\n",
       "    <tr>\n",
       "      <th>5</th>\n",
       "      <td>143262240</td>\n",
       "      <td>5.369011e+10</td>\n",
       "      <td>593284432000</td>\n",
       "    </tr>\n",
       "    <tr>\n",
       "      <th>6</th>\n",
       "      <td>10649632</td>\n",
       "      <td>5.431375e+10</td>\n",
       "      <td>695928004608</td>\n",
       "    </tr>\n",
       "    <tr>\n",
       "      <th>7</th>\n",
       "      <td>10616864</td>\n",
       "      <td>7.453576e+10</td>\n",
       "      <td>695928004608</td>\n",
       "    </tr>\n",
       "    <tr>\n",
       "      <th>8</th>\n",
       "      <td>174112</td>\n",
       "      <td>4.600645e+10</td>\n",
       "      <td>695919616000</td>\n",
       "    </tr>\n",
       "    <tr>\n",
       "      <th>9</th>\n",
       "      <td>174112</td>\n",
       "      <td>8.359590e+09</td>\n",
       "      <td>139731304616</td>\n",
       "    </tr>\n",
       "    <tr>\n",
       "      <th>10</th>\n",
       "      <td>174112</td>\n",
       "      <td>9.065129e+08</td>\n",
       "      <td>8600594472</td>\n",
       "    </tr>\n",
       "  </tbody>\n",
       "</table>\n",
       "</div>"
      ],
      "text/plain": [
       "          best          mean         worst\n",
       "0   8600584224  3.241458e+11  732326144034\n",
       "1   8600584224  1.985942e+11  723738305152\n",
       "2   8600584224  1.009108e+11  584686019072\n",
       "3    681746592  5.684540e+10  595558146688\n",
       "4    145392160  6.794935e+10  593410261632\n",
       "5    143262240  5.369011e+10  593284432000\n",
       "6     10649632  5.431375e+10  695928004608\n",
       "7     10616864  7.453576e+10  695928004608\n",
       "8       174112  4.600645e+10  695919616000\n",
       "9       174112  8.359590e+09  139731304616\n",
       "10      174112  9.065129e+08    8600594472"
      ]
     },
     "execution_count": 504,
     "metadata": {},
     "output_type": "execute_result"
    }
   ],
   "source": [
    "ga = GA(init_fn=init_fn, init_kwargs={'n_elements':20, 'n_features':40})\n",
    "df = ga.run(10, cost_fn)\n",
    "df"
   ]
  },
  {
   "cell_type": "code",
   "execution_count": 505,
   "metadata": {},
   "outputs": [
    {
     "data": {
      "text/plain": [
       "<matplotlib.axes._subplots.AxesSubplot at 0x7f55f693a080>"
      ]
     },
     "execution_count": 505,
     "metadata": {},
     "output_type": "execute_result"
    },
    {
     "data": {
      "image/png": "[encoded data removed]",
      "text/plain": [
       "<Figure size 432x288 with 1 Axes>"
      ]
     },
     "metadata": {
      "needs_background": "light"
     },
     "output_type": "display_data"
    }
   ],
   "source": [
    "df.plot(kind='line')"
   ]
  },
  {
   "cell_type": "code",
   "execution_count": null,
   "metadata": {},
   "outputs": [],
   "source": []
  }
 ],
 "metadata": {
  "kernelspec": {
   "display_name": "Python 3",
   "language": "python",
   "name": "python3"
  },
  "language_info": {
   "codemirror_mode": {
    "name": "ipython",
    "version": 3
   },
   "file_extension": ".py",
   "mimetype": "text/x-python",
   "name": "python",
   "nbconvert_exporter": "python",
   "pygments_lexer": "ipython3",
   "version": "3.6.9"
  }
 },
 "nbformat": 4,
 "nbformat_minor": 4
}
