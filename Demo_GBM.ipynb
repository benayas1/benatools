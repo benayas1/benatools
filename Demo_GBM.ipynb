{
 "cells": [
  {
   "cell_type": "code",
   "execution_count": 1,
   "metadata": {
    "pycharm": {
     "is_executing": false
    }
   },
   "outputs": [
    {
     "traceback": [
      "\u001b[1;31m---------------------------------------------------------------------------\u001b[0m",
      "\u001b[1;31mImportError\u001b[0m                               Traceback (most recent call last)",
      "\u001b[1;32m<ipython-input-1-ad77919bcea9>\u001b[0m in \u001b[0;36m<module>\u001b[1;34m()\u001b[0m\n\u001b[0;32m      6\u001b[0m \u001b[1;32mimport\u001b[0m \u001b[0mnumpy\u001b[0m \u001b[1;32mas\u001b[0m \u001b[0mnp\u001b[0m\u001b[1;33m\u001b[0m\u001b[0m\n\u001b[0;32m      7\u001b[0m \u001b[1;32mfrom\u001b[0m \u001b[0mbenatools\u001b[0m\u001b[1;33m.\u001b[0m\u001b[0mtools\u001b[0m \u001b[1;32mimport\u001b[0m \u001b[0mMultiStratifiedKFold\u001b[0m\u001b[1;33m\u001b[0m\u001b[0m\n\u001b[1;32m----> 8\u001b[1;33m \u001b[1;32mfrom\u001b[0m \u001b[0mbenatools\u001b[0m\u001b[1;33m.\u001b[0m\u001b[0mgbm\u001b[0m\u001b[1;33m.\u001b[0m\u001b[0mfitter\u001b[0m \u001b[1;32mimport\u001b[0m \u001b[0mGBMFitter\u001b[0m\u001b[1;33m\u001b[0m\u001b[0m\n\u001b[0m\u001b[0;32m      9\u001b[0m \u001b[1;32mfrom\u001b[0m \u001b[0mbenatools\u001b[0m\u001b[1;33m.\u001b[0m\u001b[0mgbm\u001b[0m\u001b[1;33m.\u001b[0m\u001b[0mopt\u001b[0m \u001b[1;32mimport\u001b[0m \u001b[0mopt_catboost\u001b[0m\u001b[1;33m,\u001b[0m \u001b[0mopt_xgboost\u001b[0m\u001b[1;33m,\u001b[0m \u001b[0mopt_lightgbm\u001b[0m\u001b[1;33m\u001b[0m\u001b[0m\n\u001b[0;32m     10\u001b[0m \u001b[1;32mimport\u001b[0m \u001b[0msklearn\u001b[0m\u001b[1;33m.\u001b[0m\u001b[0mmetrics\u001b[0m \u001b[1;32mas\u001b[0m \u001b[0mmt\u001b[0m\u001b[1;33m\u001b[0m\u001b[0m\n",
      "\u001b[1;32m~\\github\\benatools\\benatools\\gbm\\fitter.py\u001b[0m in \u001b[0;36m<module>\u001b[1;34m()\u001b[0m\n\u001b[0;32m      8\u001b[0m \u001b[1;32mimport\u001b[0m \u001b[0mgc\u001b[0m\u001b[1;33m\u001b[0m\u001b[0m\n\u001b[0;32m      9\u001b[0m \u001b[1;32mimport\u001b[0m \u001b[0msklearn\u001b[0m\u001b[1;33m.\u001b[0m\u001b[0mmetrics\u001b[0m \u001b[1;32mas\u001b[0m \u001b[0mmt\u001b[0m\u001b[1;33m\u001b[0m\u001b[0m\n\u001b[1;32m---> 10\u001b[1;33m \u001b[1;32mimport\u001b[0m \u001b[0mcategory_encoders\u001b[0m \u001b[1;32mas\u001b[0m \u001b[0mce\u001b[0m\u001b[1;33m\u001b[0m\u001b[0m\n\u001b[0m\u001b[0;32m     11\u001b[0m \u001b[1;33m\u001b[0m\u001b[0m\n\u001b[0;32m     12\u001b[0m \u001b[1;33m\u001b[0m\u001b[0m\n",
      "\u001b[1;32mc:\\users\\alberto\\appdata\\local\\programs\\python\\python36\\lib\\site-packages\\category_encoders\\__init__.py\u001b[0m in \u001b[0;36m<module>\u001b[1;34m()\u001b[0m\n\u001b[0;32m     23\u001b[0m \u001b[1;32mfrom\u001b[0m \u001b[0mcategory_encoders\u001b[0m\u001b[1;33m.\u001b[0m\u001b[0mjames_stein\u001b[0m \u001b[1;32mimport\u001b[0m \u001b[0mJamesSteinEncoder\u001b[0m\u001b[1;33m\u001b[0m\u001b[0m\n\u001b[0;32m     24\u001b[0m \u001b[1;32mfrom\u001b[0m \u001b[0mcategory_encoders\u001b[0m\u001b[1;33m.\u001b[0m\u001b[0mcat_boost\u001b[0m \u001b[1;32mimport\u001b[0m \u001b[0mCatBoostEncoder\u001b[0m\u001b[1;33m\u001b[0m\u001b[0m\n\u001b[1;32m---> 25\u001b[1;33m \u001b[1;32mfrom\u001b[0m \u001b[0mcategory_encoders\u001b[0m\u001b[1;33m.\u001b[0m\u001b[0mglmm\u001b[0m \u001b[1;32mimport\u001b[0m \u001b[0mGLMMEncoder\u001b[0m\u001b[1;33m\u001b[0m\u001b[0m\n\u001b[0m\u001b[0;32m     26\u001b[0m \u001b[1;33m\u001b[0m\u001b[0m\n\u001b[0;32m     27\u001b[0m \u001b[0m__version__\u001b[0m \u001b[1;33m=\u001b[0m \u001b[1;34m'2.2.2'\u001b[0m\u001b[1;33m\u001b[0m\u001b[0m\n",
      "\u001b[1;32mc:\\users\\alberto\\appdata\\local\\programs\\python\\python36\\lib\\site-packages\\category_encoders\\glmm.py\u001b[0m in \u001b[0;36m<module>\u001b[1;34m()\u001b[0m\n\u001b[0;32m      8\u001b[0m \u001b[1;32mfrom\u001b[0m \u001b[0mcategory_encoders\u001b[0m\u001b[1;33m.\u001b[0m\u001b[0mordinal\u001b[0m \u001b[1;32mimport\u001b[0m \u001b[0mOrdinalEncoder\u001b[0m\u001b[1;33m\u001b[0m\u001b[0m\n\u001b[0;32m      9\u001b[0m \u001b[1;32mimport\u001b[0m \u001b[0mcategory_encoders\u001b[0m\u001b[1;33m.\u001b[0m\u001b[0mutils\u001b[0m \u001b[1;32mas\u001b[0m \u001b[0mutil\u001b[0m\u001b[1;33m\u001b[0m\u001b[0m\n\u001b[1;32m---> 10\u001b[1;33m \u001b[1;32mimport\u001b[0m \u001b[0mstatsmodels\u001b[0m\u001b[1;33m.\u001b[0m\u001b[0mformula\u001b[0m\u001b[1;33m.\u001b[0m\u001b[0mapi\u001b[0m \u001b[1;32mas\u001b[0m \u001b[0msmf\u001b[0m\u001b[1;33m\u001b[0m\u001b[0m\n\u001b[0m\u001b[0;32m     11\u001b[0m \u001b[1;32mfrom\u001b[0m \u001b[0mstatsmodels\u001b[0m\u001b[1;33m.\u001b[0m\u001b[0mgenmod\u001b[0m\u001b[1;33m.\u001b[0m\u001b[0mbayes_mixed_glm\u001b[0m \u001b[1;32mimport\u001b[0m \u001b[0mBinomialBayesMixedGLM\u001b[0m \u001b[1;32mas\u001b[0m \u001b[0mbgmm\u001b[0m\u001b[1;33m\u001b[0m\u001b[0m\n\u001b[0;32m     12\u001b[0m \u001b[1;33m\u001b[0m\u001b[0m\n",
      "\u001b[1;32mc:\\users\\alberto\\appdata\\local\\programs\\python\\python36\\lib\\site-packages\\statsmodels\\formula\\api.py\u001b[0m in \u001b[0;36m<module>\u001b[1;34m()\u001b[0m\n\u001b[0;32m     13\u001b[0m \u001b[1;32mfrom\u001b[0m \u001b[0mstatsmodels\u001b[0m\u001b[1;33m.\u001b[0m\u001b[0mrobust\u001b[0m\u001b[1;33m.\u001b[0m\u001b[0mrobust_linear_model\u001b[0m \u001b[1;32mimport\u001b[0m \u001b[0mRLM\u001b[0m\u001b[1;33m\u001b[0m\u001b[0m\n\u001b[0;32m     14\u001b[0m \u001b[0mrlm\u001b[0m \u001b[1;33m=\u001b[0m \u001b[0mRLM\u001b[0m\u001b[1;33m.\u001b[0m\u001b[0mfrom_formula\u001b[0m\u001b[1;33m\u001b[0m\u001b[0m\n\u001b[1;32m---> 15\u001b[1;33m \u001b[1;32mfrom\u001b[0m \u001b[0mstatsmodels\u001b[0m\u001b[1;33m.\u001b[0m\u001b[0mdiscrete\u001b[0m\u001b[1;33m.\u001b[0m\u001b[0mdiscrete_model\u001b[0m \u001b[1;32mimport\u001b[0m \u001b[0mMNLogit\u001b[0m\u001b[1;33m\u001b[0m\u001b[0m\n\u001b[0m\u001b[0;32m     16\u001b[0m \u001b[0mmnlogit\u001b[0m \u001b[1;33m=\u001b[0m \u001b[0mMNLogit\u001b[0m\u001b[1;33m.\u001b[0m\u001b[0mfrom_formula\u001b[0m\u001b[1;33m\u001b[0m\u001b[0m\n\u001b[0;32m     17\u001b[0m \u001b[1;32mfrom\u001b[0m \u001b[0mstatsmodels\u001b[0m\u001b[1;33m.\u001b[0m\u001b[0mdiscrete\u001b[0m\u001b[1;33m.\u001b[0m\u001b[0mdiscrete_model\u001b[0m \u001b[1;32mimport\u001b[0m \u001b[0mLogit\u001b[0m\u001b[1;33m\u001b[0m\u001b[0m\n",
      "\u001b[1;32mc:\\users\\alberto\\appdata\\local\\programs\\python\\python36\\lib\\site-packages\\statsmodels\\discrete\\discrete_model.py\u001b[0m in \u001b[0;36m<module>\u001b[1;34m()\u001b[0m\n\u001b[0;32m     43\u001b[0m \u001b[1;33m\u001b[0m\u001b[0m\n\u001b[0;32m     44\u001b[0m \u001b[1;32mfrom\u001b[0m \u001b[0mstatsmodels\u001b[0m\u001b[1;33m.\u001b[0m\u001b[0mbase\u001b[0m\u001b[1;33m.\u001b[0m\u001b[0ml1_slsqp\u001b[0m \u001b[1;32mimport\u001b[0m \u001b[0mfit_l1_slsqp\u001b[0m\u001b[1;33m\u001b[0m\u001b[0m\n\u001b[1;32m---> 45\u001b[1;33m \u001b[1;32mfrom\u001b[0m \u001b[0mstatsmodels\u001b[0m\u001b[1;33m.\u001b[0m\u001b[0mdistributions\u001b[0m \u001b[1;32mimport\u001b[0m \u001b[0mgenpoisson_p\u001b[0m\u001b[1;33m\u001b[0m\u001b[0m\n\u001b[0m\u001b[0;32m     46\u001b[0m \u001b[1;33m\u001b[0m\u001b[0m\n\u001b[0;32m     47\u001b[0m \u001b[1;32mtry\u001b[0m\u001b[1;33m:\u001b[0m\u001b[1;33m\u001b[0m\u001b[0m\n",
      "\u001b[1;32mc:\\users\\alberto\\appdata\\local\\programs\\python\\python36\\lib\\site-packages\\statsmodels\\distributions\\__init__.py\u001b[0m in \u001b[0;36m<module>\u001b[1;34m()\u001b[0m\n\u001b[0;32m      1\u001b[0m \u001b[1;32mfrom\u001b[0m \u001b[1;33m.\u001b[0m\u001b[0mempirical_distribution\u001b[0m \u001b[1;32mimport\u001b[0m \u001b[0mECDF\u001b[0m\u001b[1;33m,\u001b[0m \u001b[0mmonotone_fn_inverter\u001b[0m\u001b[1;33m,\u001b[0m \u001b[0mStepFunction\u001b[0m\u001b[1;33m\u001b[0m\u001b[0m\n\u001b[1;32m----> 2\u001b[1;33m \u001b[1;32mfrom\u001b[0m \u001b[1;33m.\u001b[0m\u001b[0medgeworth\u001b[0m \u001b[1;32mimport\u001b[0m \u001b[0mExpandedNormal\u001b[0m\u001b[1;33m\u001b[0m\u001b[0m\n\u001b[0m\u001b[0;32m      3\u001b[0m \u001b[1;32mfrom\u001b[0m \u001b[1;33m.\u001b[0m\u001b[0mdiscrete\u001b[0m \u001b[1;32mimport\u001b[0m \u001b[0mgenpoisson_p\u001b[0m\u001b[1;33m,\u001b[0m \u001b[0mzipoisson\u001b[0m\u001b[1;33m,\u001b[0m \u001b[0mzigenpoisson\u001b[0m\u001b[1;33m,\u001b[0m \u001b[0mzinegbin\u001b[0m\u001b[1;33m\u001b[0m\u001b[0m\n",
      "\u001b[1;32mc:\\users\\alberto\\appdata\\local\\programs\\python\\python36\\lib\\site-packages\\statsmodels\\distributions\\edgeworth.py\u001b[0m in \u001b[0;36m<module>\u001b[1;34m()\u001b[0m\n\u001b[0;32m      5\u001b[0m \u001b[1;32mimport\u001b[0m \u001b[0mnumpy\u001b[0m \u001b[1;32mas\u001b[0m \u001b[0mnp\u001b[0m\u001b[1;33m\u001b[0m\u001b[0m\n\u001b[0;32m      6\u001b[0m \u001b[1;32mfrom\u001b[0m \u001b[0mnumpy\u001b[0m\u001b[1;33m.\u001b[0m\u001b[0mpolynomial\u001b[0m\u001b[1;33m.\u001b[0m\u001b[0mhermite_e\u001b[0m \u001b[1;32mimport\u001b[0m \u001b[0mHermiteE\u001b[0m\u001b[1;33m\u001b[0m\u001b[0m\n\u001b[1;32m----> 7\u001b[1;33m \u001b[1;32mfrom\u001b[0m \u001b[0mscipy\u001b[0m\u001b[1;33m.\u001b[0m\u001b[0mmisc\u001b[0m \u001b[1;32mimport\u001b[0m \u001b[0mfactorial\u001b[0m\u001b[1;33m\u001b[0m\u001b[0m\n\u001b[0m\u001b[0;32m      8\u001b[0m \u001b[1;32mfrom\u001b[0m \u001b[0mscipy\u001b[0m\u001b[1;33m.\u001b[0m\u001b[0mstats\u001b[0m \u001b[1;32mimport\u001b[0m \u001b[0mrv_continuous\u001b[0m\u001b[1;33m\u001b[0m\u001b[0m\n\u001b[0;32m      9\u001b[0m \u001b[1;32mimport\u001b[0m \u001b[0mscipy\u001b[0m\u001b[1;33m.\u001b[0m\u001b[0mspecial\u001b[0m \u001b[1;32mas\u001b[0m \u001b[0mspecial\u001b[0m\u001b[1;33m\u001b[0m\u001b[0m\n",
      "\u001b[1;31mImportError\u001b[0m: cannot import name 'factorial'"
     ],
     "ename": "ImportError",
     "evalue": "cannot import name 'factorial'",
     "output_type": "error"
    }
   ],
   "source": [
    "import os\n",
    "import sys\n",
    "from sklearn.datasets import load_boston\n",
    "import pandas as pd\n",
    "import numpy as np\n",
    "from benatools.tools import MultiStratifiedKFold\n",
    "from benatools.gbm.fitter import GBMFitter\n",
    "from benatools.gbm.opt import opt_catboost, opt_xgboost, opt_lightgbm\n",
    "import sklearn.metrics as mt\n",
    "from sklearn.model_selection import train_test_split\n",
    "\n",
    "# Load data and convert to DataFrame\n",
    "data = load_boston()\n",
    "df = pd.DataFrame(data=np.concatenate([data['data'], data['target'].reshape(-1,1)], axis=1), columns=list(data['feature_names'])+['TARGET'] )\n",
    "\n",
    "# Convert boolean and integer variables\n",
    "df['RAD'] = df['RAD'].astype(int)\n",
    "df['CHAS'] = df['CHAS'].astype(int)\n",
    "\n",
    "df.describe()"
   ]
  },
  {
   "cell_type": "code",
   "execution_count": null,
   "metadata": {
    "pycharm": {
     "is_executing": false
    }
   },
   "outputs": [],
   "source": [
    "# Train/Test split\n",
    "train, test = train_test_split(df)\n",
    "train = train.reset_index(drop=True)\n",
    "X_train, y_train = train.iloc[:,:-1], train['TARGET']\n",
    "X_test, y_test = test.iloc[:,:-1], test['TARGET']"
   ]
  },
  {
   "cell_type": "code",
   "execution_count": null,
   "metadata": {
    "pycharm": {
     "is_executing": false
    }
   },
   "outputs": [],
   "source": [
    "cb_params = [opt_catboost(X_train, y_train, verbose=2, n_trials=10, max_rounds=500, figsize=(10,6))]"
   ]
  },
  {
   "cell_type": "code",
   "execution_count": 11,
   "metadata": {},
   "outputs": [
    {
     "name": "stdout",
     "output_type": "stream",
     "text": [
      "Train Loss: 1.6702, Test Loss: 3.4036 RMSE with 435 iterations. Time elapsed 4.35\n",
      "Train Loss: 3.2245, Test Loss: 3.9428 RMSE with 499 iterations. Time elapsed 5.01\n",
      "Train Loss: 1.7562, Test Loss: 3.4614 RMSE with 118 iterations. Time elapsed 1.52\n",
      "Train Loss: 2.0497, Test Loss: 3.5915 RMSE with 499 iterations. Time elapsed 4.76\n",
      "Train Loss: 1.9387, Test Loss: 3.4503 RMSE with 499 iterations. Time elapsed 5.1\n",
      "Train Loss: 3.2009, Test Loss: 3.8975 RMSE with 499 iterations. Time elapsed 4.99\n",
      "Train Loss: 2.8953, Test Loss: 3.7399 RMSE with 499 iterations. Time elapsed 4.76\n",
      "Train Loss: 2.2984, Test Loss: 3.6501 RMSE with 498 iterations. Time elapsed 4.97\n",
      "Train Loss: 2.6556, Test Loss: 3.6398 RMSE with 392 iterations. Time elapsed 4.17\n",
      "Train Loss: 1.5138, Test Loss: 3.3860 RMSE with 424 iterations. Time elapsed 4.77\n",
      "100%|██████████| 10/10 [00:44<00:00,  4.44s/trial, best loss: 3.3859776666666668]\n"
     ]
    },
    {
     "data": {
      "image/png": "[encoded data removed]",
      "text/plain": [
       "<Figure size 720x432 with 1 Axes>"
      ]
     },
     "metadata": {
      "needs_background": "light"
     },
     "output_type": "display_data"
    }
   ],
   "source": [
    "xgb_params = [opt_xgboost(X_train, y_train, verbose=2, n_trials=10, max_rounds=500, figsize=(10,6))]"
   ]
  },
  {
   "cell_type": "code",
   "execution_count": 12,
   "metadata": {},
   "outputs": [
    {
     "name": "stdout",
     "output_type": "stream",
     "text": [
      "Test Loss: 24.6128 RMSE with 0 iterations. Time elapsed 0.01\n",
      "Test Loss: 24.6128 RMSE with 0 iterations. Time elapsed 0.01\n",
      "Test Loss: 5.6306 RMSE with 446 iterations. Time elapsed 0.14                  \n",
      "Test Loss: 24.6128 RMSE with 0 iterations. Time elapsed 0.01                   \n",
      "Test Loss: 24.6128 RMSE with 0 iterations. Time elapsed 0.01                   \n",
      "Test Loss: 5.7794 RMSE with 170 iterations. Time elapsed 0.04                  \n",
      "Test Loss: 24.6128 RMSE with 0 iterations. Time elapsed 0.01                   \n",
      "Test Loss: 24.6128 RMSE with 0 iterations. Time elapsed 0.01                   \n",
      "Test Loss: 24.6128 RMSE with 0 iterations. Time elapsed 0.01                   \n",
      "Test Loss: 24.6128 RMSE with 0 iterations. Time elapsed 0.01                   \n",
      "100%|██████████| 10/10 [00:00<00:00, 33.49trial/s, best loss: 5.630629367005088]\n"
     ]
    },
    {
     "data": {
      "image/png": "[encoded data removed]",
      "text/plain": [
       "<Figure size 720x432 with 1 Axes>"
      ]
     },
     "metadata": {
      "needs_background": "light"
     },
     "output_type": "display_data"
    }
   ],
   "source": [
    "lgb_params = [opt_lightgbm(X_train, y_train, verbose=2, n_trials=10, max_rounds=1500, figsize=(10,6))]"
   ]
  },
  {
   "cell_type": "code",
   "execution_count": 16,
   "metadata": {},
   "outputs": [],
   "source": [
    "# Create CV strategy\n",
    "cv = MultiStratifiedKFold(n_splits=5, df=X_train, features=['RAD','CHAS'])\n",
    "fitter = GBMFitter(cb_data = cb_params, xgb_data = xgb_params, lgb_data = lgb_params, cv_strategy = cv, use_rounders=False, metrics=[mt.mean_squared_error])"
   ]
  },
  {
   "cell_type": "code",
   "execution_count": 17,
   "metadata": {},
   "outputs": [
    {
     "name": "stdout",
     "output_type": "stream",
     "text": [
      "Training CB models\n",
      "\tTraining with 5 folds\n",
      "\t\tTraining fold 0 \n",
      "\t\t\tTrain Metric: 4.4993, OOF Val Metric: 7.9246, elapsed 0.39\n",
      "\t\tTraining fold 1 \n",
      "\t\t\tTrain Metric: 4.0516, OOF Val Metric: 11.7856, elapsed 0.5\n",
      "\t\tTraining fold 2 \n",
      "\t\t\tTrain Metric: 3.8750, OOF Val Metric: 15.6451, elapsed 0.46\n",
      "\t\tTraining fold 3 \n",
      "\t\t\tTrain Metric: 4.4656, OOF Val Metric: 14.7815, elapsed 0.42\n",
      "\t\tTraining fold 4 \n",
      "\t\t\tTrain Metric: 4.2965, OOF Val Metric: 15.3880, elapsed 0.46\n",
      "\t\tOOF Validation Metric: 13.1967, total time elapsed 2.24\n",
      "Training XGB models\n",
      "\tTraining with 5 folds\n",
      "\t\tTraining fold 0 \n",
      "\t\t\tTrain Metric: 2.4873, OOF Val Metric: 7.0496, elapsed 1.6\n",
      "\t\tTraining fold 1 \n",
      "\t\t\tTrain Metric: 2.4123, OOF Val Metric: 9.6705, elapsed 1.56\n",
      "\t\tTraining fold 2 \n",
      "\t\t\tTrain Metric: 2.0860, OOF Val Metric: 19.9503, elapsed 1.57\n",
      "\t\tTraining fold 3 \n",
      "\t\t\tTrain Metric: 2.4029, OOF Val Metric: 10.0591, elapsed 1.57\n",
      "\t\tTraining fold 4 \n",
      "\t\t\tTrain Metric: 2.2701, OOF Val Metric: 13.2786, elapsed 1.55\n",
      "\t\tOOF Validation Metric: 12.0628, total time elapsed 7.85\n",
      "Training LGB models\n",
      "\tTraining with 5 folds\n",
      "\t\tTraining fold 0 \n",
      "\t\t\tTrain Metric: 22.0226, OOF Val Metric: 16.9709, elapsed 0.03\n",
      "\t\tTraining fold 1 \n",
      "\t\t\tTrain Metric: 21.4748, OOF Val Metric: 21.5342, elapsed 0.03\n",
      "\t\tTraining fold 2 \n",
      "\t\t\tTrain Metric: 19.5580, OOF Val Metric: 30.4349, elapsed 0.03\n",
      "\t\tTraining fold 3 \n",
      "\t\t\tTrain Metric: 20.0675, OOF Val Metric: 27.9555, elapsed 0.03\n",
      "\t\tTraining fold 4 \n",
      "\t\t\tTrain Metric: 20.6129, OOF Val Metric: 29.4613, elapsed 0.03\n",
      "\t\tOOF Validation Metric: 25.4225, total time elapsed 0.16\n"
     ]
    }
   ],
   "source": [
    "fitter.fit(X_train, y_train)"
   ]
  },
  {
   "cell_type": "code",
   "execution_count": 18,
   "metadata": {},
   "outputs": [
    {
     "data": {
      "text/html": [
       "<div>\n",
       "<style scoped>\n",
       "    .dataframe tbody tr th:only-of-type {\n",
       "        vertical-align: middle;\n",
       "    }\n",
       "\n",
       "    .dataframe tbody tr th {\n",
       "        vertical-align: top;\n",
       "    }\n",
       "\n",
       "    .dataframe thead th {\n",
       "        text-align: right;\n",
       "    }\n",
       "</style>\n",
       "<table border=\"1\" class=\"dataframe\">\n",
       "  <thead>\n",
       "    <tr style=\"text-align: right;\">\n",
       "      <th></th>\n",
       "      <th>cb0</th>\n",
       "      <th>cb1</th>\n",
       "      <th>cb2</th>\n",
       "      <th>cb3</th>\n",
       "      <th>cb4</th>\n",
       "      <th>xgb0</th>\n",
       "      <th>xgb1</th>\n",
       "      <th>xgb2</th>\n",
       "      <th>xgb3</th>\n",
       "      <th>xgb4</th>\n",
       "      <th>lgb0</th>\n",
       "      <th>lgb1</th>\n",
       "      <th>lgb2</th>\n",
       "      <th>lgb3</th>\n",
       "      <th>lgb4</th>\n",
       "      <th>mean</th>\n",
       "    </tr>\n",
       "  </thead>\n",
       "  <tbody>\n",
       "    <tr>\n",
       "      <th>0</th>\n",
       "      <td>23.489156</td>\n",
       "      <td>25.026887</td>\n",
       "      <td>23.910899</td>\n",
       "      <td>23.703797</td>\n",
       "      <td>24.716544</td>\n",
       "      <td>25.601707</td>\n",
       "      <td>26.567877</td>\n",
       "      <td>24.418831</td>\n",
       "      <td>26.664331</td>\n",
       "      <td>25.994114</td>\n",
       "      <td>24.038969</td>\n",
       "      <td>22.838573</td>\n",
       "      <td>23.450531</td>\n",
       "      <td>22.233801</td>\n",
       "      <td>26.340483</td>\n",
       "      <td>24.599767</td>\n",
       "    </tr>\n",
       "    <tr>\n",
       "      <th>1</th>\n",
       "      <td>21.568264</td>\n",
       "      <td>21.695085</td>\n",
       "      <td>21.401552</td>\n",
       "      <td>22.186455</td>\n",
       "      <td>22.059180</td>\n",
       "      <td>21.835493</td>\n",
       "      <td>22.247410</td>\n",
       "      <td>22.136982</td>\n",
       "      <td>22.310987</td>\n",
       "      <td>21.043455</td>\n",
       "      <td>20.102230</td>\n",
       "      <td>19.514548</td>\n",
       "      <td>21.108298</td>\n",
       "      <td>20.970362</td>\n",
       "      <td>22.270743</td>\n",
       "      <td>21.496736</td>\n",
       "    </tr>\n",
       "    <tr>\n",
       "      <th>2</th>\n",
       "      <td>18.447788</td>\n",
       "      <td>17.673798</td>\n",
       "      <td>17.791614</td>\n",
       "      <td>17.976261</td>\n",
       "      <td>17.327081</td>\n",
       "      <td>18.169054</td>\n",
       "      <td>16.682280</td>\n",
       "      <td>16.549000</td>\n",
       "      <td>17.183353</td>\n",
       "      <td>17.085653</td>\n",
       "      <td>14.916680</td>\n",
       "      <td>16.122143</td>\n",
       "      <td>14.587407</td>\n",
       "      <td>14.777872</td>\n",
       "      <td>15.114755</td>\n",
       "      <td>16.693649</td>\n",
       "    </tr>\n",
       "    <tr>\n",
       "      <th>3</th>\n",
       "      <td>14.685916</td>\n",
       "      <td>15.234204</td>\n",
       "      <td>13.869798</td>\n",
       "      <td>14.099419</td>\n",
       "      <td>13.904070</td>\n",
       "      <td>14.166034</td>\n",
       "      <td>16.059315</td>\n",
       "      <td>14.912730</td>\n",
       "      <td>15.340445</td>\n",
       "      <td>14.476507</td>\n",
       "      <td>12.470769</td>\n",
       "      <td>13.599436</td>\n",
       "      <td>12.697845</td>\n",
       "      <td>12.513435</td>\n",
       "      <td>12.064617</td>\n",
       "      <td>14.006303</td>\n",
       "    </tr>\n",
       "    <tr>\n",
       "      <th>4</th>\n",
       "      <td>23.884493</td>\n",
       "      <td>23.804751</td>\n",
       "      <td>22.551622</td>\n",
       "      <td>23.318437</td>\n",
       "      <td>23.716565</td>\n",
       "      <td>21.875837</td>\n",
       "      <td>23.917906</td>\n",
       "      <td>22.997105</td>\n",
       "      <td>23.347202</td>\n",
       "      <td>22.785482</td>\n",
       "      <td>25.436315</td>\n",
       "      <td>26.094154</td>\n",
       "      <td>23.775585</td>\n",
       "      <td>23.756182</td>\n",
       "      <td>26.904832</td>\n",
       "      <td>23.877765</td>\n",
       "    </tr>\n",
       "    <tr>\n",
       "      <th>...</th>\n",
       "      <td>...</td>\n",
       "      <td>...</td>\n",
       "      <td>...</td>\n",
       "      <td>...</td>\n",
       "      <td>...</td>\n",
       "      <td>...</td>\n",
       "      <td>...</td>\n",
       "      <td>...</td>\n",
       "      <td>...</td>\n",
       "      <td>...</td>\n",
       "      <td>...</td>\n",
       "      <td>...</td>\n",
       "      <td>...</td>\n",
       "      <td>...</td>\n",
       "      <td>...</td>\n",
       "      <td>...</td>\n",
       "    </tr>\n",
       "    <tr>\n",
       "      <th>122</th>\n",
       "      <td>33.171653</td>\n",
       "      <td>32.636984</td>\n",
       "      <td>37.495101</td>\n",
       "      <td>32.416583</td>\n",
       "      <td>33.788965</td>\n",
       "      <td>31.122858</td>\n",
       "      <td>30.833109</td>\n",
       "      <td>32.266079</td>\n",
       "      <td>30.196331</td>\n",
       "      <td>32.107269</td>\n",
       "      <td>29.824353</td>\n",
       "      <td>30.030592</td>\n",
       "      <td>29.745179</td>\n",
       "      <td>30.048004</td>\n",
       "      <td>30.135698</td>\n",
       "      <td>31.721250</td>\n",
       "    </tr>\n",
       "    <tr>\n",
       "      <th>123</th>\n",
       "      <td>23.810467</td>\n",
       "      <td>25.665403</td>\n",
       "      <td>23.790510</td>\n",
       "      <td>24.032627</td>\n",
       "      <td>24.734544</td>\n",
       "      <td>24.143007</td>\n",
       "      <td>25.617910</td>\n",
       "      <td>24.119970</td>\n",
       "      <td>25.094929</td>\n",
       "      <td>23.911196</td>\n",
       "      <td>26.313851</td>\n",
       "      <td>26.043947</td>\n",
       "      <td>26.976714</td>\n",
       "      <td>25.606367</td>\n",
       "      <td>27.227127</td>\n",
       "      <td>25.139238</td>\n",
       "    </tr>\n",
       "    <tr>\n",
       "      <th>124</th>\n",
       "      <td>12.890055</td>\n",
       "      <td>14.297696</td>\n",
       "      <td>13.458736</td>\n",
       "      <td>12.778762</td>\n",
       "      <td>13.465743</td>\n",
       "      <td>13.376484</td>\n",
       "      <td>14.121161</td>\n",
       "      <td>13.476758</td>\n",
       "      <td>12.454109</td>\n",
       "      <td>12.450480</td>\n",
       "      <td>12.443364</td>\n",
       "      <td>12.892071</td>\n",
       "      <td>11.740493</td>\n",
       "      <td>12.333754</td>\n",
       "      <td>12.042288</td>\n",
       "      <td>12.948130</td>\n",
       "    </tr>\n",
       "    <tr>\n",
       "      <th>125</th>\n",
       "      <td>15.034267</td>\n",
       "      <td>14.783799</td>\n",
       "      <td>13.390412</td>\n",
       "      <td>13.560543</td>\n",
       "      <td>13.781469</td>\n",
       "      <td>14.514259</td>\n",
       "      <td>14.494281</td>\n",
       "      <td>14.722704</td>\n",
       "      <td>13.717727</td>\n",
       "      <td>14.816611</td>\n",
       "      <td>14.328595</td>\n",
       "      <td>14.885770</td>\n",
       "      <td>13.992836</td>\n",
       "      <td>13.925160</td>\n",
       "      <td>16.831037</td>\n",
       "      <td>14.451965</td>\n",
       "    </tr>\n",
       "    <tr>\n",
       "      <th>126</th>\n",
       "      <td>18.336641</td>\n",
       "      <td>19.749086</td>\n",
       "      <td>18.789546</td>\n",
       "      <td>20.409632</td>\n",
       "      <td>19.189827</td>\n",
       "      <td>20.832296</td>\n",
       "      <td>20.826366</td>\n",
       "      <td>19.635199</td>\n",
       "      <td>22.374578</td>\n",
       "      <td>21.853802</td>\n",
       "      <td>19.155151</td>\n",
       "      <td>18.295116</td>\n",
       "      <td>19.477703</td>\n",
       "      <td>18.553531</td>\n",
       "      <td>19.678098</td>\n",
       "      <td>19.810438</td>\n",
       "    </tr>\n",
       "  </tbody>\n",
       "</table>\n",
       "<p>127 rows × 16 columns</p>\n",
       "</div>"
      ],
      "text/plain": [
       "           cb0        cb1        cb2        cb3        cb4       xgb0  \\\n",
       "0    23.489156  25.026887  23.910899  23.703797  24.716544  25.601707   \n",
       "1    21.568264  21.695085  21.401552  22.186455  22.059180  21.835493   \n",
       "2    18.447788  17.673798  17.791614  17.976261  17.327081  18.169054   \n",
       "3    14.685916  15.234204  13.869798  14.099419  13.904070  14.166034   \n",
       "4    23.884493  23.804751  22.551622  23.318437  23.716565  21.875837   \n",
       "..         ...        ...        ...        ...        ...        ...   \n",
       "122  33.171653  32.636984  37.495101  32.416583  33.788965  31.122858   \n",
       "123  23.810467  25.665403  23.790510  24.032627  24.734544  24.143007   \n",
       "124  12.890055  14.297696  13.458736  12.778762  13.465743  13.376484   \n",
       "125  15.034267  14.783799  13.390412  13.560543  13.781469  14.514259   \n",
       "126  18.336641  19.749086  18.789546  20.409632  19.189827  20.832296   \n",
       "\n",
       "          xgb1       xgb2       xgb3       xgb4       lgb0       lgb1  \\\n",
       "0    26.567877  24.418831  26.664331  25.994114  24.038969  22.838573   \n",
       "1    22.247410  22.136982  22.310987  21.043455  20.102230  19.514548   \n",
       "2    16.682280  16.549000  17.183353  17.085653  14.916680  16.122143   \n",
       "3    16.059315  14.912730  15.340445  14.476507  12.470769  13.599436   \n",
       "4    23.917906  22.997105  23.347202  22.785482  25.436315  26.094154   \n",
       "..         ...        ...        ...        ...        ...        ...   \n",
       "122  30.833109  32.266079  30.196331  32.107269  29.824353  30.030592   \n",
       "123  25.617910  24.119970  25.094929  23.911196  26.313851  26.043947   \n",
       "124  14.121161  13.476758  12.454109  12.450480  12.443364  12.892071   \n",
       "125  14.494281  14.722704  13.717727  14.816611  14.328595  14.885770   \n",
       "126  20.826366  19.635199  22.374578  21.853802  19.155151  18.295116   \n",
       "\n",
       "          lgb2       lgb3       lgb4       mean  \n",
       "0    23.450531  22.233801  26.340483  24.599767  \n",
       "1    21.108298  20.970362  22.270743  21.496736  \n",
       "2    14.587407  14.777872  15.114755  16.693649  \n",
       "3    12.697845  12.513435  12.064617  14.006303  \n",
       "4    23.775585  23.756182  26.904832  23.877765  \n",
       "..         ...        ...        ...        ...  \n",
       "122  29.745179  30.048004  30.135698  31.721250  \n",
       "123  26.976714  25.606367  27.227127  25.139238  \n",
       "124  11.740493  12.333754  12.042288  12.948130  \n",
       "125  13.992836  13.925160  16.831037  14.451965  \n",
       "126  19.477703  18.553531  19.678098  19.810438  \n",
       "\n",
       "[127 rows x 16 columns]"
      ]
     },
     "execution_count": 18,
     "metadata": {},
     "output_type": "execute_result"
    }
   ],
   "source": [
    "y_pred = fitter.predict(X_test, mean_function=np.mean)\n",
    "y_pred"
   ]
  },
  {
   "cell_type": "code",
   "execution_count": 22,
   "metadata": {},
   "outputs": [
    {
     "name": "stdout",
     "output_type": "stream",
     "text": [
      "Test Dataset RMSE 3.8237\n"
     ]
    }
   ],
   "source": [
    "print('Test Dataset RMSE {:.4f}'.format(mt.mean_squared_error(y_test, y_pred['mean'], squared=False)))"
   ]
  }
 ],
 "metadata": {
  "kernelspec": {
   "display_name": "Python 3",
   "language": "python",
   "name": "python3"
  },
  "language_info": {
   "codemirror_mode": {
    "name": "ipython",
    "version": 3
   },
   "file_extension": ".py",
   "mimetype": "text/x-python",
   "name": "python",
   "nbconvert_exporter": "python",
   "pygments_lexer": "ipython3",
   "version": "3.6.9"
  },
  "pycharm": {
   "stem_cell": {
    "cell_type": "raw",
    "metadata": {
     "collapsed": false
    },
    "source": []
   }
  }
 },
 "nbformat": 4,
 "nbformat_minor": 4
}